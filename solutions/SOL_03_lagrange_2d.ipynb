{
 "cells": [
  {
   "cell_type": "markdown",
   "metadata": {
    "raw_mimetype": "text/latex"
   },
   "source": [
    "(c) Juan Gomez 2019. Thanks to Universidad EAFIT for support. This material is part of the course Introduction to Finite Element Analysis"
   ]
  },
  {
   "cell_type": "markdown",
   "metadata": {},
   "source": [
    "# SOLUTION: Interpolation in Two-Dimensional Domains"
   ]
  },
  {
   "cell_type": "markdown",
   "metadata": {},
   "source": [
    "## By Juan Gomez"
   ]
  },
  {
   "cell_type": "markdown",
   "metadata": {},
   "source": [
    "### Class activity\n",
    "**Problem 1**\n",
    "\n",
    "Extend the 2D interpolation scheme discussed above to the case of a vector valued function in the context of linear elasticity. For that purpose:\n",
    "\n",
    "* Assume that at each nodal point of the square domain the displacement vector with horizontal and vertical componentes denoted by $u$ and $v$ respectively is known.\n",
    "* Using these nodal values compute the horizontal and vertical displacement components over the element. Note that the contribution from the nodal dispalcements from the Q-th node can be written like:\n",
    "\n",
    "\n",
    "$$\n",
    "\\begin{bmatrix}u\\\\v\\end{bmatrix}=\\left[\\cdots\\begin{array}{cc}N^Q&0\\\\0&N^Q\\end{array}\\cdots\\right]\\begin{bmatrix}\\vdots\\\\u^Q\\\\v^Q\\\\\\vdots\\end{bmatrix}\\\\\n",
    "$$\n",
    "\n",
    "where $N^Q$ is the corresponding shape function.\n",
    "\n",
    "\n",
    "* Using these same nodal values compute the strain field given by:\n",
    "\n",
    "$$\\varepsilon_{xx}=\\frac12\\left(\\frac{\\partial u}{\\partial x}\\right)$$\n",
    "\n",
    "$$\\varepsilon_{yy}=\\frac12\\left(\\frac{\\partial v}{\\partial y}\\right)$$\n",
    "\n",
    "$$\\gamma_{yy}=\\left(\\frac{\\partial u}{\\partial y}+\\frac{\\partial v}{\\partial x}\\right)$$\n",
    "\n",
    "It can be observed that in order to find the strain components we need first derivatives of $u$ and $v$ with respect to $x$ and $y$. These derivatives satisfy:\n",
    "\n",
    "$$\\begin{bmatrix}\\frac{\\partial u}{\\partial x}\\\\\\frac{\\partial u}{\\partial x}\\end{bmatrix} = \\left[\\cdots\\begin{array}{cc}\\frac{\\partial N^Q}{\\partial x}&0\\\\0&\\frac{\\partial N^Q}{\\partial x}\\end{array}\\cdots\\right] \\begin{bmatrix}\\vdots\\\\u^Q\\\\v^Q\\\\\\vdots\\end{bmatrix}$$\n",
    "\n",
    "$$\\begin{bmatrix}\\frac{\\partial u}{\\partial y}\\\\\\frac{\\partial u}{\\partial y}\\end{bmatrix} = \\left[\\cdots\\begin{array}{cc}\\frac{\\partial N^Q}{\\partial y}&0\\\\0&\\frac{\\partial N^Q}{\\partial y}\\end{array}\\cdots\\right] \\begin{bmatrix}\\vdots\\\\u^Q\\\\v^Q\\\\\\vdots\\end{bmatrix}$$\n",
    "\n",
    "thus the vector storing the strain components satisfy:\n",
    "\n",
    "$$\\begin{bmatrix}\\varepsilon_{xx}\\\\\\varepsilon_{yy}\\\\\\gamma_{xy}\\end{bmatrix}=\\begin{bmatrix}&\\frac{\\partial N^Q}{\\partial x}&0&\\\\\\cdots&0&\\frac{\\partial N^Q}{\\partial y}&\\cdots\\\\&\\frac{\\partial N^Q}{\\partial y}&\\frac{\\partial N^Q}{\\partial x}&\\end{bmatrix}\\begin{bmatrix}\\vdots\\\\u^Q\\\\v^Q\\\\\\vdots\\end{bmatrix}$$.\n",
    "\n",
    "The expression above can be written in matrix form after considering the contribution from all nodal points in the element as:\n",
    "\n",
    "$$\\left(\\varepsilon\\right)=\\left[B\\right]\\left(u\\right)$$\n",
    "\n",
    "where we recognize matrix $\\left[B\\right]$ to be given by:\n",
    "\n",
    "\n",
    "\n",
    "$$B = \\begin{bmatrix}&\\frac{\\partial N^Q}{\\partial x}&0&\\\\\\cdots&0&\\frac{\\partial N^Q}{\\partial y}&\\cdots\\\\&\\frac{\\partial N^Q}{\\partial y}&\\frac{\\partial N^Q}{\\partial x}&\\end{bmatrix}$$"
   ]
  },
  {
   "cell_type": "code",
   "execution_count": 1,
   "metadata": {},
   "outputs": [],
   "source": [
    "%matplotlib notebook        \n",
    "import matplotlib.pyplot as plt\n",
    "import numpy as np\n",
    "import sympy as sym\n",
    "from scipy import interpolate\n",
    "import math"
   ]
  },
  {
   "cell_type": "markdown",
   "metadata": {},
   "source": [
    "The first subroutine (taken from SolidsPy) stores the interpolation shape functions for the element in the 2D array $N(x , y)$. In this case the element is assumed to be a size 2.0 perfect square."
   ]
  },
  {
   "cell_type": "code",
   "execution_count": 2,
   "metadata": {},
   "outputs": [],
   "source": [
    "def sha4(x, y):\n",
    "    \"\"\"Shape functions for a 4-noded quad element\n",
    "\n",
    "    Parameters\n",
    "    ----------\n",
    "    x : float\n",
    "      x coordinate for a point within the element.\n",
    "    y : float\n",
    "      y coordinate for a point within the element.\n",
    "\n",
    "    Returns\n",
    "    -------\n",
    "    N : Numpy array\n",
    "      Array of interpolation functions.\n",
    "\n",
    "    Examples\n",
    "    --------\n",
    "    We can check evaluating at two different points, namely (0, 0) and\n",
    "    (1, 1). Thus\n",
    "\n",
    "    >>> N = sha4(0, 0)\n",
    "    >>> N_ex = np.array([\n",
    "    ...    [1/4, 0, 1/4, 0, 1/4, 0, 1/4, 0],\n",
    "    ...    [0, 1/4, 0, 1/4, 0, 1/4, 0, 1/4]])\n",
    "    >>> np.allclose(N, N_ex)\n",
    "    True\n",
    "\n",
    "    and\n",
    "\n",
    "    >>> N = sha4(1, 1)\n",
    "    >>> N_ex = np.array([\n",
    "    ...    [0, 0, 0, 0, 1, 0, 0, 0],\n",
    "    ...    [0, 0, 0, 0, 0, 1, 0, 0]])\n",
    "    >>> np.allclose(N, N_ex)\n",
    "    True\n",
    "\n",
    "    \"\"\"\n",
    "    N = np.zeros((2, 8))\n",
    "    H = 0.25*np.array(\n",
    "        [(1 - x)*(1 - y),\n",
    "         (1 + x)*(1 - y),\n",
    "         (1 + x)*(1 + y),\n",
    "         (1 - x)*(1 + y)])\n",
    "    N[0, ::2] = H\n",
    "    N[1, 1::2] = H\n",
    "\n",
    "    return N"
   ]
  },
  {
   "cell_type": "markdown",
   "metadata": {},
   "source": [
    "This second subroutine (adaptade from SolidsPy) stores the shape functions derivatives in the strain matrix $B$ "
   ]
  },
  {
   "cell_type": "code",
   "execution_count": 3,
   "metadata": {},
   "outputs": [],
   "source": [
    "def stdm4NQ(x, y):\n",
    "    \"\"\"Strain-displacement interpolator B for a 4-noded quad element\n",
    "\n",
    "    Parameters\n",
    "    ----------\n",
    "    r : float\n",
    "      r component in the natural space.\n",
    "    s : float\n",
    "      s component in the natural space.\n",
    "    coord : ndarray\n",
    "      Coordinates of the nodes of the element (4, 2).\n",
    "\n",
    "    Returns\n",
    "    -------\n",
    "    ddet : float\n",
    "      Determinant evaluated at `(r, s)`.\n",
    "    B : ndarray\n",
    "      Strain-displacement interpolator evaluated at `(r, s)`.\n",
    "\n",
    "    \"\"\"\n",
    "    nn = 4\n",
    "    B = np.zeros((3, 2*nn))\n",
    "    dhdx = 0.25*np.array([\n",
    "            [y- 1, -y + 1, y + 1, -y - 1],\n",
    "            [x - 1, -x - 1, x + 1, -x + 1]])\n",
    "\n",
    "    B[0,  ::2] = 0.5*dhdx[0, :]\n",
    "    B[1, 1::2] = 0.5* dhdx[1, :]\n",
    "    B[2,  ::2] = dhdx[1, :]\n",
    "    B[2, 1::2] = dhdx[0, :]\n",
    "    return B"
   ]
  },
  {
   "cell_type": "markdown",
   "metadata": {},
   "source": [
    "We are now ready to conduct the interpolation assuming the vector of nodal displacements for the element is known. The response at a single point is computed like:"
   ]
  },
  {
   "cell_type": "code",
   "execution_count": 4,
   "metadata": {},
   "outputs": [
    {
     "name": "stdout",
     "output_type": "stream",
     "text": [
      "Matrix([[-0.296875000000000], [-0.0781250000000000]])\n",
      "Matrix([[-0.0937500000000000], [-0.0562500000000000], [-0.300000000000000]])\n"
     ]
    }
   ],
   "source": [
    "v = sym.Matrix(8, 1, [-1.0 , -0.5 , +0.5 , +0.4 , -1.0 , -0.5 ,+0.5 ,+0.4])\n",
    "x = 0.25\n",
    "y = 0.25\n",
    "N = sha4(x, y)\n",
    "B = stdm4NQ(x, y)\n",
    "u_sol = N*v\n",
    "e_sol = B*v\n",
    "print(u_sol)\n",
    "print(e_sol)"
   ]
  },
  {
   "cell_type": "markdown",
   "metadata": {},
   "source": [
    "**Problem 2**\n",
    "\n",
    "In a realistic finite element problem and due to geometric irregularities in the computational domain all the elements of the mesh would have different geometric paramters. These differences not only complicate the interpolation process but even create serious problems on coding a systematic approach. In practice every real (distorted) element is transformed to a canonical element in such a way that the interpolation process is conducted in the canonical space. The figure below shows the relation between these two spaces emphasizing the fact that there is a one to one connecion between a point in both spaces. The mathematical details of the transformation are provided in the **Class Notes.**\n",
    "\n",
    "\n",
    "<center><img src=\"img/isopar.png\" alt=\"1direction\" style=\"width:400px\"></center>\n",
    "\n",
    "\n",
    "* Compute the transformation between the distorted and canonical element spaces required to conduct two-dimensional interpolation in a realistic case."
   ]
  },
  {
   "cell_type": "markdown",
   "metadata": {},
   "source": [
    "To conduct the transformation we assume that the relation between the physical space $\\overrightarrow x$ and canonical (or mathematical space) $\\overrightarrow\\eta$ is given by:\n",
    "\n",
    "$$\\overrightarrow x=f(\\overrightarrow\\eta)$$\n",
    "\n",
    "In the finite element method this transformation is established using also an interpolation scheme. It then follows that the physical space coordinates can be obtained in terms of the mathematical space coordinates like:\n",
    "\n",
    "$$\\begin{bmatrix}x\\\\y\\end{bmatrix}=\\left[\\cdots\\begin{array}{cc}N^Q&0\\\\0&N^Q\\end{array}\\cdots\\right]\\begin{bmatrix}\\vdots\\\\x^Q\\\\y^Q\\\\\\vdots\\end{bmatrix}$$\n",
    "\n",
    "and where $x^Q$ and $y^Q$ are the coordinates of the Q-th nodal point in the physical space. The corresponding function for the 4-noded element is then"
   ]
  },
  {
   "cell_type": "code",
   "execution_count": 5,
   "metadata": {},
   "outputs": [],
   "source": [
    "def sha4nat(r,s):\n",
    "    \"\"\"\n",
    "    Compute the shape functions for bi-linear\n",
    "    square element of size 2.0.\n",
    "    \"\"\"\n",
    "    sh=sym.zeros(4)\n",
    "    N=sym.zeros(2 , 8)\n",
    "    sh[0] =(1.0/4.0)*(1 - r)*(1 - s)\n",
    "    sh[1] =(1.0/4.0)*(1 + r)*(1 - s)\n",
    "    sh[2] =(1.0/4.0)*(1 + r)*(1 + s)\n",
    "    sh[3] =(1.0/4.0)*(1 - r)*(1 + s)\n",
    "    \n",
    "    N[0,0]=sh[0]\n",
    "    N[0,2]=sh[1]\n",
    "    N[0,4]=sh[2]\n",
    "    N[0,6]=sh[3]\n",
    "    \n",
    "    N[1,1]=sh[0]\n",
    "    N[1,3]=sh[1]\n",
    "    N[1,5]=sh[2]\n",
    "    N[1,7]=sh[3]\n",
    "#\n",
    "    return N"
   ]
  },
  {
   "cell_type": "markdown",
   "metadata": {},
   "source": [
    "Let us define the nodal points coordinates"
   ]
  },
  {
   "cell_type": "code",
   "execution_count": 6,
   "metadata": {},
   "outputs": [],
   "source": [
    "coord = sym.Matrix(8, 1, [0.0 , 0.0 , 1.0 , 0.0 , 1.0 , 1.0 , 0.0 , 1.0])"
   ]
  },
  {
   "cell_type": "markdown",
   "metadata": {},
   "source": [
    "Now conduct the interpolation:"
   ]
  },
  {
   "cell_type": "code",
   "execution_count": 7,
   "metadata": {},
   "outputs": [
    {
     "name": "stdout",
     "output_type": "stream",
     "text": [
      "Matrix([[0.500000000000000], [0.500000000000000]])\n"
     ]
    }
   ],
   "source": [
    "r=0.0\n",
    "s=0.0\n",
    "N = sha4nat(r,s)\n",
    "X = N*coord\n",
    "print(X)"
   ]
  },
  {
   "cell_type": "code",
   "execution_count": 8,
   "metadata": {},
   "outputs": [
    {
     "data": {
      "text/html": [
       "\n",
       "<link href='http://fonts.googleapis.com/css?family=Fenix' rel='stylesheet' type='text/css'>\n",
       "<link href='http://fonts.googleapis.com/css?family=Alegreya+Sans:100,300,400,500,700,800,900,100italic,300italic,400italic,500italic,700italic,800italic,900italic' rel='stylesheet' type='text/css'>\n",
       "<link href='http://fonts.googleapis.com/css?family=Source+Code+Pro:300,400' rel='stylesheet' type='text/css'>\n",
       "\n",
       "<style>\n",
       "\n",
       "/*\n",
       "Template for Notebooks for Modelación computacional.\n",
       "\n",
       "Based on Lorena Barba template available at:\n",
       "\n",
       "    https://github.com/barbagroup/AeroPython/blob/master/styles/custom.css\n",
       "*/\n",
       "\n",
       "/* Fonts */\n",
       "@font-face {\n",
       "font-family: \"Computer Modern\";\n",
       "src: url('http://mirrors.ctan.org/fonts/cm-unicode/fonts/otf/cmunss.otf');\n",
       "}\n",
       "\n",
       "/* Text */\n",
       "div.cell{\n",
       "width:800px;\n",
       "margin-left:16% !important;\n",
       "margin-right:auto;\n",
       "}\n",
       "h1 {\n",
       "font-family: 'Alegreya Sans', sans-serif;\n",
       "}\n",
       "h2 {\n",
       "font-family: 'Fenix', serif;\n",
       "}\n",
       "h3{\n",
       "font-family: 'Fenix', serif;\n",
       "margin-top:12px;\n",
       "margin-bottom: 3px;\n",
       "}\n",
       "h4{\n",
       "font-family: 'Fenix', serif;\n",
       "}\n",
       "h5 {\n",
       "font-family: 'Alegreya Sans', sans-serif;\n",
       "}\t\n",
       "div.text_cell_render{\n",
       "font-family: 'Alegreya Sans',Computer Modern, \"Helvetica Neue\", Arial, Helvetica, Geneva, sans-serif;\n",
       "line-height: 135%;\n",
       "font-size: 120%;\n",
       "width:600px;\n",
       "margin-left:auto;\n",
       "margin-right:auto;\n",
       "}\n",
       ".CodeMirror{\n",
       "font-family: \"Source Code Pro\";\n",
       "font-size: 90%;\n",
       "}\n",
       "/* .prompt{\n",
       "display: None;\n",
       "}*/\n",
       ".text_cell_render h1 {\n",
       "font-weight: 200;\n",
       "font-size: 50pt;\n",
       "line-height: 100%;\n",
       "color:#CD2305;\n",
       "margin-bottom: 0.5em;\n",
       "margin-top: 0.5em;\n",
       "display: block;\n",
       "}\t\n",
       ".text_cell_render h5 {\n",
       "font-weight: 300;\n",
       "font-size: 16pt;\n",
       "color: #CD2305;\n",
       "font-style: italic;\n",
       "margin-bottom: .5em;\n",
       "margin-top: 0.5em;\n",
       "display: block;\n",
       "}\n",
       ".warning{\n",
       "color: rgb( 240, 20, 20 )\n",
       "}\n",
       "</style>\n",
       "\n",
       "<script>\n",
       "/* Equations */\n",
       "\n",
       "MathJax.Hub.Config({\n",
       "TeX: {\n",
       "extensions: [\"AMSmath.js\"]\n",
       "},\n",
       "tex2jax: {\n",
       "inlineMath: [ ['$','$'], [\"\\\\(\",\"\\\\)\"] ],\n",
       "displayMath: [ ['$$','$$'], [\"\\\\[\",\"\\\\]\"] ]\n",
       "},\n",
       "displayAlign: 'center', // Change this to 'center' to center equations.\n",
       "\"HTML-CSS\": {\n",
       "styles: {'.MathJax_Display': {\"margin\": 4}}\n",
       "}\n",
       "});\n",
       "</script>\n",
       "\n",
       "\n"
      ],
      "text/plain": [
       "<IPython.core.display.HTML object>"
      ]
     },
     "execution_count": 8,
     "metadata": {},
     "output_type": "execute_result"
    }
   ],
   "source": [
    "from IPython.core.display import HTML\n",
    "def css_styling():\n",
    "    styles = open('./nb_style.css', 'r').read()\n",
    "    return HTML(styles)\n",
    "css_styling()"
   ]
  },
  {
   "cell_type": "code",
   "execution_count": null,
   "metadata": {},
   "outputs": [],
   "source": []
  }
 ],
 "metadata": {
  "celltoolbar": "Raw Cell Format",
  "kernelspec": {
   "display_name": "Python 3",
   "language": "python",
   "name": "python3"
  },
  "language_info": {
   "codemirror_mode": {
    "name": "ipython",
    "version": 3
   },
   "file_extension": ".py",
   "mimetype": "text/x-python",
   "name": "python",
   "nbconvert_exporter": "python",
   "pygments_lexer": "ipython3",
   "version": "3.7.1"
  },
  "varInspector": {
   "cols": {
    "lenName": 16,
    "lenType": 16,
    "lenVar": 40
   },
   "kernels_config": {
    "python": {
     "delete_cmd_postfix": "",
     "delete_cmd_prefix": "del ",
     "library": "var_list.py",
     "varRefreshCmd": "print(var_dic_list())"
    },
    "r": {
     "delete_cmd_postfix": ") ",
     "delete_cmd_prefix": "rm(",
     "library": "var_list.r",
     "varRefreshCmd": "cat(var_dic_list()) "
    }
   },
   "types_to_exclude": [
    "module",
    "function",
    "builtin_function_or_method",
    "instance",
    "_Feature"
   ],
   "window_display": false
  }
 },
 "nbformat": 4,
 "nbformat_minor": 1
}
