{
 "cells": [
  {
   "cell_type": "markdown",
   "metadata": {
    "raw_mimetype": "text/latex"
   },
   "source": [
    "(c) Juan Gomez 2019. Thanks to Universidad EAFIT for support. This material is part of the course Introduction to Finite Element Analysis"
   ]
  },
  {
   "cell_type": "markdown",
   "metadata": {},
   "source": [
    "# Numerical Integration in The Finite Element Method"
   ]
  },
  {
   "cell_type": "markdown",
   "metadata": {},
   "source": [
    "## Introduction"
   ]
  },
  {
   "cell_type": "markdown",
   "metadata": {},
   "source": [
    "This Notebook covers a fundamental application of numerical integration within the context of the finite element method. We use Gaussian quadratures to integrate functions over domains corresponding to finite elements: here we cover in particularl the case of a bi-linear element. The notebook ends with a propossed activity which requires extending the given subroutines to compute energy terms typically appearing in finite element methods for plane elasticity. **After completing this notebook you should be able to:**\n",
    "\n",
    "\n",
    "* Undesrtand the mathematical basis of a general quadrature.\n",
    "\n",
    "* Undesrtand the relationship between the physical and the natural space in the formulation of finite elements.\n",
    "\n",
    "* Transform functions and elements from the physical to the natural space in order to perform numerical integration over arbitrary geometries."
   ]
  },
  {
   "cell_type": "markdown",
   "metadata": {},
   "source": [
    "## Quadrature rules in the FEM.\n",
    "\n",
    "In the finite element method we are interested in finding integrals like:\n",
    "\n",
    "$$I=\\int_{V(\\overrightarrow x)}f(\\overrightarrow x)\\operatorname d{V(\\overrightarrow x)}$$\n",
    "\n",
    "over the domain $V(\\overrightarrow x)$ of typical finite elements (see figure below).\n",
    "\n",
    "\n",
    "<center><img src=\"img/physical.png\" alt=\"files\" style=\"width:300px\"></center>\n",
    "\n",
    "In a general finite element mesh both the integrand and the integration domain are expected to change from element-to-element then the integration must me performed using efficient numerical integration schemes or **quadratures** that can handle the differences from one element to the other.\n",
    "\n",
    "A **quadrature** is an approximation of an integral by a weighted superposition of functional evaluations:\n",
    "\n",
    "$$I=\\int_{V(\\overrightarrow x)}f(\\overrightarrow x)\\operatorname d{V(\\overrightarrow x)\\approx\\sum_{i=1}^{Npts}f(\\overrightarrow{x_i})w_i}.$$\n",
    "\n",
    "In this expression the integral is approximated by a summation of products $f(\\overrightarrow x_i) w_i$ of function evaluations at **integration points** with position vector $\\overrightarrow x_i$ multiplied by **weighting factors** $w_i$ associated to each evaluation point $i$.\n",
    "\n",
    "In the finite element method the most commonly used numerical quadratures correspond to **Gaussian** integration formulas where the evaluation points and weighting factors are selected for maximum accuracy. In Gaussian schemes a quadrature with $n$ integration points integrates exactly polynomial functions of order $2n-1$ (see Bathe, 2006 and Press et al, 2006.)\n",
    "\n",
    "### The physical and the canonical space.\n",
    "\n",
    "Since in the finite element method the domain of integration changes from element-to-element the most efficiet method to conduct the numerical integration is to transform (or mapp) each element from the **physical space** into a canonical element. The fictitous or methematical space of the canonical element is termed the **natural space**.\n",
    "\n",
    "The transformation is ilustrated in the figure which shows a typical bi-lineal two-dimensional finite element taken from a mesh of an arbitrary computational domain and the equivalent canonical element. The black dots represent the **nodes** of the element. \n",
    "\n",
    "<center><img src=\"img/mapping.png\" alt=\"files\" style=\"width:500px\"></center>\n",
    "\n",
    "The space in which the element has been created during the meshing process is denoted by the position vector $\\overrightarrow x$ and is termed the **physical space**. Notice that in the **physical space** the element has an arbitrary shape, distorted with respect to the perfect square representation in the **natural space**.\n",
    "\n",
    "The fact that the element in the **natural space** does not change (notice in this case that it is a perfect square of side $2.0$) implies that the **shape functions** and location of **integration points** are always the same and therefore can be implemented in a computer code. For instance, in the figure above the points marked with a cross correspond to evaluation points for a 2X2 Gauss **quadrature**.\n",
    "\n",
    "### Element mapping.\n",
    "\n",
    "Transformation of the element from the **physical** to the **natural** space requires also transformation of the integrand in $I$. This process is equivalent to a change of variables.\n",
    "\n",
    "First, the transformation between both spaces can be written in the general form:\n",
    "\n",
    "$$x_i=x_i(r_J)$$\n",
    "$$r_J=r_J(x_i)$$\n",
    "\n",
    "where $x_i$ and $r_I$ represent the position vectors of a point in the physical and natural space respectively.\n",
    "\n",
    "In the finite element method the above functional relationships are formulated in terms of the element shape functions $N_i^Q(r_J)$ as:\n",
    "\n",
    "$$x_i=N_i^Q(r_J)x^Q$$\n",
    "\n",
    "which implies that the geometry of the element, or equivalently the independent variable in the functions, is also being approximated via interpolation.\n",
    "\n",
    "This relation between spaces allows us to transform the function $f(\\overrightarrow x)$ from the **physical** to the **natural space** as indicated by the general expression:\n",
    "\n",
    "$$f=f(x_i)\\equiv f\\left[x_i(r_J)\\right]\\equiv F(r_J).$$\n",
    "\n",
    "\n",
    "To transform the differential volume element $dV(\\overrightarrow x)$ in the **physical space** into the differential volume element $dV(\\overrightarrow r)$ in the **natural space**, the transformation can be understood like the result of an actual deformation process taking the element from one configuration to the other. This transofrmation can be described in terms of Nanson's relation from continuum mechanics (see Malvern, 1969) like:\n",
    "\n",
    "$$dV(\\overrightarrow x)=\\left|J(\\overrightarrow r)\\right|dV(\\overrightarrow r)$$\n",
    "\n",
    "where $J(\\overrightarrow r)$ is the Jacobian of the transformation:\n",
    "\n",
    "\n",
    "$$J_{iJ}=\\frac{\\partial x_i}{\\partial r_J}$$\n",
    "\n",
    "while $\\left|J(\\overrightarrow r)\\right|$ is its determinant.\n",
    "\n",
    "\n",
    "Substitution of $F(\\overrightarrow r)$ and $\\left|J(\\overrightarrow r)\\right|dV(\\overrightarrow r)$ in $I$ gives:\n",
    "\n",
    "\n",
    "$$I=\\int_{V(\\overrightarrow x)}f(\\overrightarrow x)dV(\\overrightarrow x)\\equiv\\int_{V(\\overrightarrow r)}F(\\overrightarrow r)\\left|J(\\overrightarrow r)\\right|dV(\\overrightarrow r)$$\n",
    "\n",
    "and therefore its evaluation is also possible in terms of the **quadrature** :\n",
    "\n",
    "\n",
    "$$I=\\int_{V(\\overrightarrow r)}F(\\overrightarrow r)\\left|J(\\overrightarrow r)\\right|dV(\\overrightarrow r)\\approx\\sum_{I\\;=1}^{Npts}F(\\overrightarrow{r_I})\\left|J(\\overrightarrow{r_I})\\right|w_I.$$\n",
    "\n",
    "\n",
    "\n",
    "Notice that the Jacobian matrix $J$ carries with it all the information about the change of form in the element when going from the **physical** to the **natural space**. This tensor however can easily be evaluated at each integration point using the relation between spaces in terms of the shape functions and the nodal coordinates. For instance, the contribution from the $Q$ nodal point is:\n",
    "\n",
    "$$J_{iJ}=\\frac{\\partial x_i}{\\partial r_J}\\equiv\\frac{\\partial N_i^Q}{\\partial r_J}x^Q.$$\n",
    "  \n",
    "\n",
    "**Note:** In the particular case of a quadrilateral element the integral in the natural space takes the form:\n",
    "\n",
    "$$I=\\int_{r=-1}^{r=+1}\\int_{s=-1}^{s=+1}F(r , s)\\left|J\\right|drds$$\n",
    " \n",
    "and the **qudrature** becomes an straightforward application of two iterated inetgrals."
   ]
  },
  {
   "cell_type": "markdown",
   "metadata": {},
   "source": [
    "## Finding the area of a bi-lineal element.\n",
    "\n",
    "Use a 2x2 Gauss **quadrature** to compute the area of the quadrilaterla bi-lineal finite element shown in the figure.\n",
    "\n",
    "<center><img src=\"img/trape.png\" alt=\"files\" style=\"width:200px\"></center>\n",
    "\n",
    "\n",
    "The coordinates of the element nodes in the physical space are stored in the following array\n",
    "\n",
    "\n",
    "$$coord=\\begin{bmatrix}0&0\\\\1&0\\\\1&2\\\\0&1\\end{bmatrix}$$\n",
    "\n",
    "In this particular case $f(\\overrightarrow x) = 1.0$ and the computational domain is the element surface $S(\\overrightarrow x)$ so the integral reads:\n",
    "\n",
    "$$I=\\int_{S(\\overrightarrow x)}\\operatorname d{S(\\overrightarrow x)}.$$\n",
    "\n",
    "Transformation to the **natural** space yields:\n",
    "\n",
    "$$I=\\int_{r=-1}^{r=+1}\\int_{s=-1}^{s=+1}\\left|J\\right|drds.$$\n",
    "\n",
    "Note that all the information about the change in geometry is contained in the determinant of the Jacobian matrix. In this problem the Jacobian matrix and its determinant will be found numerically.\n",
    "\n",
    "### Python solution.\n",
    "The main program loops through all the Gauss points and at each point it proceeds as follows:\n",
    "\n",
    "* Evaluates the Jacobian determinant.\n",
    "* Evaluates the function (already written in the natural space).\n",
    "* Accumulates the value of the product $F(\\overrightarrow{r_i})\\left|J(\\overrightarrow{r_i})\\right|w_i$ in the variable $fun$:\n",
    "\n",
    "$$fun\\leftarrow fun+ F(\\overrightarrow{r_i})\\left|J(\\overrightarrow{r_i})\\right|w_i$$\n",
    "\n",
    "\n",
    "For the Python implementation we start, as usual, by importing the required modules. In this case we only need to import `numpy`. "
   ]
  },
  {
   "cell_type": "code",
   "execution_count": 1,
   "metadata": {},
   "outputs": [],
   "source": [
    "%matplotlib inline        \n",
    "import numpy as np"
   ]
  },
  {
   "cell_type": "markdown",
   "metadata": {},
   "source": [
    "Subroutine `gpoints2x2()` creates arrays `xp[]` and `xw[]` storing the location of the evaluation points in the Gauss quadrature and the corresponding weighting factors. Notice that the coordinates of the integration points correspond to the iterated application of a one-dimensional 2-point quadrature. The weighting factors are obtained from products of the factor from each direction.\n",
    "\n",
    "**Questions:**\n",
    "\n",
    "**Document the following subroutine by adding a definition of each input and output parameter indicating the type of data in each case and the definition of the parameter within the current context.**"
   ]
  },
  {
   "cell_type": "code",
   "execution_count": 2,
   "metadata": {},
   "outputs": [],
   "source": [
    "def gpoints2x2():\n",
    "    \"\"\"Gauss points for a 2 by 2 grid\n",
    "\n",
    "    \"\"\"\n",
    "    xw = np.zeros([4])\n",
    "    xp = np.zeros([4, 2])\n",
    "    xw[:] = 1.0\n",
    "    xp[0, 0] = -0.577350269189626\n",
    "    xp[1, 0] = 0.577350269189626\n",
    "    xp[2, 0] = -0.577350269189626\n",
    "    xp[3, 0] = 0.577350269189626\n",
    "\n",
    "    xp[0, 1] = 0.577350269189626\n",
    "    xp[1, 1] = 0.577350269189626\n",
    "    xp[2, 1] = -0.577350269189626\n",
    "    xp[3, 1] = -0.577350269189626\n",
    "\n",
    "    return xw, xp"
   ]
  },
  {
   "cell_type": "markdown",
   "metadata": {},
   "source": [
    "Subroutine `stdm4NQ()` receives as input parameters the nodal coordinates of the 4 nodal points of the element and the coordinates of a Gauus point. The subroutine evaluates the shape function derivatives $\\frac{\\partial N_i^Q}{\\partial r_J}$ at the Gauss point and use it in the evaluation of the Jacobian and its determinant.\n",
    "\n",
    "**Questions:**\n",
    "\n",
    "**Document the following subroutine by adding a definition of each input and output parameter indicating the type of data in each case and the definition of the parameter within the current context.**"
   ]
  },
  {
   "cell_type": "code",
   "execution_count": 3,
   "metadata": {},
   "outputs": [],
   "source": [
    "def stdm4NQ(r, s, coord):\n",
    "    \"\"\"Shape function derivatives for a 4-noded quad element\n",
    "\n",
    "    Parameters\n",
    "    ----------\n",
    "   \n",
    "\n",
    "    Returns\n",
    "    -------\n",
    "\n",
    "    \"\"\"\n",
    "    nn = 4\n",
    "    dhdx = 0.25*np.array([\n",
    "            [s - 1, -s + 1, s + 1, -s - 1],\n",
    "            [r - 1, -r - 1, r + 1, -r + 1]])\n",
    "    det  = jacoper(dhdx, coord)\n",
    "\n",
    "    return det"
   ]
  },
  {
   "cell_type": "markdown",
   "metadata": {},
   "source": [
    "The contribution from nodal point $Q$ to the Jacobian of the transformation takes the form:\n",
    "\n",
    "$$\n",
    "\\begin{array}{l}\\begin{bmatrix}\\frac{\\partial x}{\\partial r}&\\frac{\\partial y}{\\partial r}\\\\\\frac{\\partial x}{\\partial s}&\\frac{\\partial y}{\\partial s}\\end{bmatrix}=\\begin{bmatrix}\\cdots&\\begin{array}{c}\\frac{\\partial N^Q}{\\partial r}\\\\\\frac{\\partial N^Q}{\\partial s}\\end{array}&\\cdots\\end{bmatrix}\\begin{bmatrix}\\vdots\\\\\\begin{array}{cc}x^Q&y^Q\\end{array}\\\\\\vdots\\end{bmatrix}\\\\\\end{array}\n",
    "$$\n",
    "\n",
    "\n",
    "where $N^Q$ is the shape function associated to node $Q$ and $x^Q$ and $y^Q$ are the nodal coordinates of the $Q$ point.\n",
    "\n",
    "Subroutine `jacoper()` uses the shape function derivatives and the coordinates of the nodal points to compute the determinant of the Jacobian matrix.\n",
    "\n",
    "\n",
    "**(Add comments to clarify the relevant steps ion the code below)**.\n"
   ]
  },
  {
   "cell_type": "code",
   "execution_count": 4,
   "metadata": {},
   "outputs": [],
   "source": [
    "def jacoper(dhdx, coord):\n",
    "    \"\"\"\n",
    "    Compute the Jacobian and the determinant for the transformation evaluated at\n",
    "    the Gauss point.\n",
    "\n",
    "    Parameters\n",
    "    ----------\n",
    "    dhdx : ndarray\n",
    "      Derivatives of the interpolation function with respect to the\n",
    "      natural coordinates.\n",
    "    coord : ndarray\n",
    "      Coordinates of the nodes of the element (nn, 2).\n",
    "\n",
    "    Returns\n",
    "    -------\n",
    "    det : float.\n",
    "      Determinant of the Jacobian evaluated at `(r, s)`.\n",
    "\n",
    "    \"\"\"\n",
    "    jaco = dhdx.dot(coord)\n",
    "    det = np.linalg.det(jaco)\n",
    "    \n",
    "    return det"
   ]
  },
  {
   "cell_type": "markdown",
   "metadata": {},
   "source": [
    "The part of the function resulting from direct transformation of $f(x , y)$ is defined in the simple subroutine `myfun()`."
   ]
  },
  {
   "cell_type": "code",
   "execution_count": 5,
   "metadata": {},
   "outputs": [],
   "source": [
    "def myfunc(r , s):\n",
    "    \"\"\"\n",
    "    \"\"\"\n",
    "    FR = 1.0\n",
    "    \n",
    "    return FR"
   ]
  },
  {
   "cell_type": "code",
   "execution_count": 6,
   "metadata": {},
   "outputs": [],
   "source": [
    "nnodes = 4\n",
    "coord = np.zeros([nnodes, 2])\n",
    "coord =([0.0 , 0.0], [1.0 , 0.0], [1.0 , 2.0], [0.0 , 1.0])"
   ]
  },
  {
   "cell_type": "code",
   "execution_count": 7,
   "metadata": {},
   "outputs": [
    {
     "name": "stdout",
     "output_type": "stream",
     "text": [
      "1.5000000000000002\n"
     ]
    }
   ],
   "source": [
    "fun = 0.0\n",
    "XW , XP = gpoints2x2()\n",
    "ngpts = 4\n",
    "for i in range(0, ngpts):\n",
    "    ri  = XP[i, 0]\n",
    "    si  = XP[i, 1]\n",
    "    alf = XW[i]\n",
    "    ddet = stdm4NQ(ri, si, coord)\n",
    "    fun = fun + myfunc(ri , si)*alf*ddet\n",
    "print(fun)"
   ]
  },
  {
   "cell_type": "markdown",
   "metadata": {},
   "source": [
    "**Questions:**\n",
    "\n",
    "**1) Assume that $F(r , s) = r^2+s^2$ is the function that results after a prior transformation from the physical to the natuarl space. Compute the value of $I$**\n",
    "\n",
    "$$I=\\int_{r=-1}^{r=+1}\\int_{s=-1}^{s=+1}(r^2+s^2)\\left|J\\right|drds$$\n",
    "\n",
    "**over the element discussed in the notebook.**\n",
    "\n",
    "\n",
    "**2) Change the geometry of the element, considering:(i) a perfect square (ii) a rectangle (iii) a trapezoid and (iv) a general distorted element in the physical space. For each one of these elements identify how these changes modify the Jacobian matriz. (Note: Try computing the inverse of the Jacobian)**"
   ]
  },
  {
   "cell_type": "markdown",
   "metadata": {},
   "source": [
    "### Glossary of terms\n",
    "\n",
    "**Quadrature:** Simple summation formula to approximate an integral after evaluating the integrand at a pre-defined set of points and weighting by different factors.\n",
    "\n",
    "**Gauss points:** Evaluation points for a specific qudrature where the points and weighting factors are selected to provide maximum accuracy.\n",
    "\n",
    "**Physical space:** Space of a finite element as created in a meshing process of a coputational domain.\n",
    "\n",
    "**Natural space:** Matematical space to which all the elements of a mesh are transformedin order to facilitate interpolatio and numerical integration.\n"
   ]
  },
  {
   "cell_type": "markdown",
   "metadata": {},
   "source": [
    "### Class activity\n",
    "In several problems of theory of elastcity it is sometimes required to compute terms like \n",
    "\n",
    "$$I\\;=\\;\\int_{V(\\overrightarrow x)}2\\mu\\varepsilon_{xx}^2\\operatorname dV(\\overrightarrow x)+\\int_{V(\\overrightarrow x)}2\\mu\\varepsilon_{yy}^2\\operatorname dV(\\overrightarrow x)$$\n",
    "\n",
    "contributing to the strain energy of the system and where\n",
    "\n",
    "\n",
    "$$\\varepsilon_{xx}=\\frac{\\partial u}{\\partial x}$$\n",
    "\n",
    "and\n",
    "\n",
    "$$\\varepsilon_{yy}=\\frac{\\partial v}{\\partial x}$$\n",
    "\n",
    "with $u$ and $v$ being the horizontal and vertical components of the displacement vector respectively.\n",
    "\n",
    "Modify the subroutines provided in the **Notebook** to compute the integral $I$ assuming that it is to be obtained for a bi-lineal finite element with known nodal displacements."
   ]
  },
  {
   "cell_type": "markdown",
   "metadata": {},
   "source": [
    "### References\n",
    "\n",
    "* Bathe, Klaus-Jürgen. Finite element procedures. Klaus-Jurgen Bathe, 2006.\n",
    "\n",
    "* Press, William H., et al. Numerical recipes in Fortran 90. Vol. 2. Cambridge: Cambridge university press, 1996.\n",
    "\n",
    "* Malvern, Lawrence E. Introduction to the Mechanics of a Continuous Medium. No. Monograph. 1969."
   ]
  },
  {
   "cell_type": "code",
   "execution_count": 8,
   "metadata": {},
   "outputs": [
    {
     "data": {
      "text/html": [
       "\n",
       "<link href='http://fonts.googleapis.com/css?family=Fenix' rel='stylesheet' type='text/css'>\n",
       "<link href='http://fonts.googleapis.com/css?family=Alegreya+Sans:100,300,400,500,700,800,900,100italic,300italic,400italic,500italic,700italic,800italic,900italic' rel='stylesheet' type='text/css'>\n",
       "<link href='http://fonts.googleapis.com/css?family=Source+Code+Pro:300,400' rel='stylesheet' type='text/css'>\n",
       "<style>\n",
       "/* Based on Lorena Barba template available at: https://github.com/barbagroup/AeroPython/blob/master/styles/custom.css*/\n",
       "@font-face {\n",
       "font-family: \"Computer Modern\";\n",
       "src: url('http://mirrors.ctan.org/fonts/cm-unicode/fonts/otf/cmunss.otf');\n",
       "}\n",
       "div.cell{\n",
       "width:800px;\n",
       "margin-left:16% !important;\n",
       "margin-right:auto;\n",
       "}\n",
       "h1 {\n",
       "font-family: 'Alegreya Sans', sans-serif;\n",
       "}\n",
       "h2 {\n",
       "font-family: 'Fenix', serif;\n",
       "}\n",
       "h3{\n",
       "font-family: 'Fenix', serif;\n",
       "margin-top:12px;\n",
       "margin-bottom: 3px;\n",
       "}\n",
       "h4{\n",
       "font-family: 'Fenix', serif;\n",
       "}\n",
       "h5 {\n",
       "font-family: 'Alegreya Sans', sans-serif;\n",
       "}\t\n",
       "div.text_cell_render{\n",
       "font-family: 'Alegreya Sans',Computer Modern, \"Helvetica Neue\", Arial, Helvetica, Geneva, sans-serif;\n",
       "line-height: 135%;\n",
       "font-size: 120%;\n",
       "width:600px;\n",
       "margin-left:auto;\n",
       "margin-right:auto;\n",
       "}\n",
       ".CodeMirror{\n",
       "font-family: \"Source Code Pro\";\n",
       "font-size: 90%;\n",
       "}\n",
       "/* .prompt{\n",
       "display: None;\n",
       "}*/\n",
       ".text_cell_render h1 {\n",
       "font-weight: 200;\n",
       "font-size: 50pt;\n",
       "line-height: 100%;\n",
       "color:#CD2305;\n",
       "margin-bottom: 0.5em;\n",
       "margin-top: 0.5em;\n",
       "display: block;\n",
       "}\t\n",
       ".text_cell_render h5 {\n",
       "font-weight: 300;\n",
       "font-size: 16pt;\n",
       "color: #CD2305;\n",
       "font-style: italic;\n",
       "margin-bottom: .5em;\n",
       "margin-top: 0.5em;\n",
       "display: block;\n",
       "}\n",
       ".warning{\n",
       "color: rgb( 240, 20, 20 )\n",
       "}\n",
       "</style>\n",
       "<script>\n",
       "MathJax.Hub.Config({\n",
       "TeX: {\n",
       "extensions: [\"AMSmath.js\"]\n",
       "},\n",
       "tex2jax: {\n",
       "inlineMath: [ ['$','$'], [\"\\\\(\",\"\\\\)\"] ],\n",
       "displayMath: [ ['$$','$$'], [\"\\\\[\",\"\\\\]\"] ]\n",
       "},\n",
       "displayAlign: 'center', // Change this to 'center' to center equations.\n",
       "\"HTML-CSS\": {\n",
       "styles: {'.MathJax_Display': {\"margin\": 4}}\n",
       "}\n",
       "});\n",
       "</script>\n",
       "\n"
      ],
      "text/plain": [
       "<IPython.core.display.HTML object>"
      ]
     },
     "execution_count": 8,
     "metadata": {},
     "output_type": "execute_result"
    }
   ],
   "source": [
    "from IPython.core.display import HTML\n",
    "def css_styling():\n",
    "    styles = open('./nb_style.css', 'r').read()\n",
    "    return HTML(styles)\n",
    "css_styling()"
   ]
  }
 ],
 "metadata": {
  "celltoolbar": "Raw Cell Format",
  "kernelspec": {
   "display_name": "Python 3",
   "language": "python",
   "name": "python3"
  },
  "language_info": {
   "codemirror_mode": {
    "name": "ipython",
    "version": 3
   },
   "file_extension": ".py",
   "mimetype": "text/x-python",
   "name": "python",
   "nbconvert_exporter": "python",
   "pygments_lexer": "ipython3",
   "version": "3.6.9"
  },
  "varInspector": {
   "cols": {
    "lenName": 16,
    "lenType": 16,
    "lenVar": 40
   },
   "kernels_config": {
    "python": {
     "delete_cmd_postfix": "",
     "delete_cmd_prefix": "del ",
     "library": "var_list.py",
     "varRefreshCmd": "print(var_dic_list())"
    },
    "r": {
     "delete_cmd_postfix": ") ",
     "delete_cmd_prefix": "rm(",
     "library": "var_list.r",
     "varRefreshCmd": "cat(var_dic_list()) "
    }
   },
   "types_to_exclude": [
    "module",
    "function",
    "builtin_function_or_method",
    "instance",
    "_Feature"
   ],
   "window_display": false
  }
 },
 "nbformat": 4,
 "nbformat_minor": 1
}
