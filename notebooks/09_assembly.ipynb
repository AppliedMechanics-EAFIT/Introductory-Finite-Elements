{
 "cells": [
  {
   "cell_type": "markdown",
   "metadata": {
    "raw_mimetype": "text/latex"
   },
   "source": [
    "(c) Juan Gomez 2019. Thanks to Universidad EAFIT for support. This material is part of the course Introduction to Finite Element Analysis"
   ]
  },
  {
   "cell_type": "markdown",
   "metadata": {},
   "source": [
    "# Global assembly of the elemental FEM equilibrium equations"
   ]
  },
  {
   "cell_type": "markdown",
   "metadata": {},
   "source": [
    "## Introduction"
   ]
  },
  {
   "cell_type": "markdown",
   "metadata": {},
   "source": [
    "In this Notebook we describe computational details related to the final assembly of the global equilibrium equations in the finite element formulation of the theory of elasticity boundary value problem. This assembly process corresponds to the addition of the stiffness matrices corresponding to each element of the mesh considering the appropriate position of each coeeficient. **After completing this notebook you should be able to:**\n",
    "\n",
    "* Understand the physical basis, in terms of the action-reaction principle, behind the process of assembly of global equilibrium equations.\n",
    "\n",
    "* Recognize the main numerical operators involved in the process of assembly of global equilibrium equations.\n",
    "\n",
    "* Implement algorithms to assemble global equilibrium equations for general elements."
   ]
  },
  {
   "cell_type": "markdown",
   "metadata": {},
   "source": [
    "## Finite element assembly\n",
    "\n",
    "Consider the simple finite element model shown in the figure below. As discussed previously, and as a result of discretizing the PVW, the nodal forces associated to the $Q$-th degree of freedom satisfy the following equilibrium relationship:\n",
    "\n",
    "$$\n",
    "K^{QP}u^P=f_V^Q+f_t^Q.\n",
    "$$\n",
    "\n",
    "\n",
    "The term $K^{QP}u^P$ in this equilibrium equation corresponds to the nodal force $f_\\sigma^Q$ resulting from internal forces associated to the element stresses. The total magnitude of these internal forces its due to the contribution from all the elements connecting to the node. This is exactly the same case when solving a simple spring-mass system, [see for instance Bathe(2006) Example 3.1].\n",
    "\n",
    "<center><img src=\"img/assembled.png\" alt=\"files\" style=\"width:500px\"></center>\n",
    "\n",
    "\n",
    "\n",
    "The process of considering internal force terms like $f_\\sigma^Q$, accounting for all the elements, and leading to the global equilibrium equations of the system is called the assembly process. The resulting internal forces for the complete system $\\left\\{F_\\sigma\\right\\}$ can be written in organized form like:\n",
    "\n",
    "\n",
    "$$\n",
    "\\left\\{F_\\sigma\\right\\}=\\left[K^G\\right]\\left\\{U^G\\right\\}\n",
    "$$\n",
    "\n",
    "and the equilibriun equations for the finite element model as:\n",
    "\n",
    "$$\n",
    "\\left\\{F_\\sigma\\right\\}-\\left\\{F_V\\right\\}-\\left\\{F_t\\right\\}=0\n",
    "$$\n",
    "\n",
    "where $\\left\\{F_V\\right\\}$ and $\\left\\{F_t\\right\\}$ are global force vectors due to body forces and surface tractions. The assembly of the global stiffness matrix $\\left[K^G\\right]$ leading to the internal forces vector can be written like:\n",
    "\n",
    "$$\n",
    "\\left[K^G\\right]=\\bigwedge_{i=1}^{Numel} k^i\n",
    "$$\n",
    "\n",
    "where $\\bigwedge$ is called the **assembly operator** which loops through the $NUMEL$ elements in the mesh and adds each local coefficient matrix $k^i$. The assembly operator works like the standard summation operator $\\Sigma$ but with the intrinsic inteligence of adding the terms at the right positions."
   ]
  },
  {
   "cell_type": "markdown",
   "metadata": {},
   "source": [
    "## Physical assembly\n",
    "\n",
    "The process of assembly can be easily understood considering Newton's third law of action and reaction. This is ilustrated in the figure below where we have labeled $U_b$ those degrees of freedom along the common surface $S_b$ and $U_a$ and $U_c$ those pertaining to other regions of element $1$ and $2$ respectively.\n",
    "\n",
    "<center><img src=\"img/coupled1.png\" alt=\"files\" style=\"width:500px\"></center>\n",
    "\n",
    "\n",
    "Now, the nodal forces representing the internal stresses take the following forms in each element:\n",
    "\n",
    "\n",
    "$$\n",
    "\\begin{Bmatrix}F_a\\\\F_b\\end{Bmatrix} = \\begin{bmatrix}K_{aa}^1&K_{ab}^1\\\\K_{ba}^1&K_{bb}^1\\end{bmatrix}\\begin{Bmatrix}U_a\\\\U_b\\end{Bmatrix}\n",
    "$$\n",
    "\n",
    "and\n",
    "\n",
    "$$\n",
    "\\begin{Bmatrix}-F_b\\\\F_c\\end{Bmatrix}=\\begin{bmatrix}K_{bb}^2&K_{bc}^2\\\\K_{cb}^2&K_{cc}^2\\end{bmatrix}\\begin{Bmatrix}U_b\\\\U_c\\end{Bmatrix}.\n",
    "$$\n",
    "\n",
    "\n",
    "Using the equilibrium and compatibility conditions in terms of nodal forces and displacements given by:\n",
    "\n",
    "\\begin{align*}\n",
    "& F_b^1+F_b^2=0\n",
    "& U_b^1=U_b^2\n",
    "\\end{align*}\n",
    "\n",
    "yields the equilibrium equations for the two element assemblage:\n",
    "\n",
    "$$\n",
    "\\begin{bmatrix}K_{aa}^1&K_{ab}^1&0\\\\K_{ba}^1&K_{bb}^1+K_{bb}^2&K_{bc}^2\\\\0&K_{cb}^2&K_{cc}^2\\end{bmatrix}\\begin{Bmatrix}U_a\\\\U_b\\\\U_c\\end{Bmatrix}=\\begin{Bmatrix}F_a\\\\0\\\\F_c\\end{Bmatrix}.\n",
    "$$\n",
    "\n",
    "\n",
    "The addition of more elements via mechanical interaction through the exposed surfaces implies the same process of canceling force terms and enforcing displacement compatibility. At the end of the process the only forces left are those introduced by surface tractions and body forces."
   ]
  },
  {
   "cell_type": "markdown",
   "metadata": {},
   "source": [
    "**Questions:**\n",
    "\n",
    "***For the mesh shown in the figure, with internal surfaces between elements 1-3 and 3-2 labeled $S_b$ and $S_c$ respectively, write the form of the global stiffness matrix resulting from the physical assembly. Explicitly formulate the force and displacement compatibility equations along both boundaries.**\n",
    "\n",
    "\n",
    "\n",
    "<center><img src=\"img/long.png\" alt=\"files\" style=\"width:300px\"></center>\n"
   ]
  },
  {
   "cell_type": "markdown",
   "metadata": {},
   "source": [
    "## Computational assembly\n",
    "\n",
    "Computationally, the assembly process implies (i) identifying active and restrained degrees of freedom (dof) in the mesh (ii) assigning equation identifiers to the active degrees of freedom and (iii) identifying the contributtion from each element to the different degrees of freedom.\n",
    "\n",
    "### Boundary conditions array IBC()\n",
    "\n",
    "To identify active and restrained dofs the nodal data specifies a bounadry condition index to each node (see figure) with values $0$ and $-1$ specifying a free and restrained dof respectively. So the nodal data in the input file gives for each node its nodal id, the nodal coordinates in the global reference system and the boundary condition flag.\n",
    "\n",
    "<center><img src=\"img/nodesF.png\" alt=\"files\" style=\"width:200px\"></center>\n",
    "\n",
    "\n",
    "The boundary conditions data is then stored into an integer array **IBC()** which in a first instance contains only $0$s and $-1$s\n",
    "\n",
    "$$\n",
    "\\begin{array}{c}0\\\\1\\\\2\\\\3\\\\4\\\\5\\\\6\\\\7\\\\8\\end{array}\\begin{bmatrix}0&-1\\\\-1&-1\\\\0&-1\\\\0&0\\\\0&0\\\\0&0\\\\0&0\\\\0&0\\\\0&0\\end{bmatrix}\n",
    "$$\n",
    "\n",
    "and in a second instance is transformed into equation numbers:\n",
    "\n",
    "\n",
    "$$\n",
    "\\begin{array}{c}0\\\\1\\\\2\\\\3\\\\4\\\\5\\\\6\\\\7\\\\8\\end{array}\\begin{bmatrix}0&-1\\\\-1&-1\\\\1&-1\\\\2&3\\\\4&5\\\\6&7\\\\8&9\\\\10&11\\\\12&13\\end{bmatrix}\n",
    "$$\n",
    "\n",
    "\n"
   ]
  },
  {
   "cell_type": "markdown",
   "metadata": {},
   "source": [
    "The following two subroutines read the input (text) files (nodes, mats , elements and loads) and form the boundary conditions array **IBC()** in its two instances completing steps (i) and (ii) for the computational assembly process. This last step is performed by the subroutine **eqcounter()**."
   ]
  },
  {
   "cell_type": "code",
   "execution_count": 1,
   "metadata": {},
   "outputs": [],
   "source": [
    "%matplotlib inline        \n",
    "import matplotlib.pyplot as plt\n",
    "import numpy as np\n",
    "import sympy as sym"
   ]
  },
  {
   "cell_type": "markdown",
   "metadata": {},
   "source": [
    "**(Add comments to clarify the relevant steps ion the code below)**."
   ]
  },
  {
   "cell_type": "code",
   "execution_count": 2,
   "metadata": {},
   "outputs": [],
   "source": [
    "def readin():\n",
    "    nodes    = np.loadtxt('files/' + 'snodes.txt', ndmin=2)\n",
    "    mats     = np.loadtxt('files/' + 'smater.txt', ndmin=2)\n",
    "    elements = np.loadtxt('files/' + 'seles.txt', ndmin=2, dtype=np.int)\n",
    "    loads    = np.loadtxt('files/' + 'sloads.txt', ndmin=2)\n",
    "\n",
    "    return nodes, mats, elements, loads\n",
    "nodes, mats, elements, loads = readin()"
   ]
  },
  {
   "cell_type": "code",
   "execution_count": 3,
   "metadata": {},
   "outputs": [],
   "source": [
    "def eqcounter(nodes):\n",
    "\n",
    "    nnodes = nodes.shape[0]\n",
    "    IBC = np.zeros([nnodes, 2], dtype=np.integer)\n",
    "    for i in range(nnodes):\n",
    "        for k in range(2):\n",
    "            IBC[i , k] = int(nodes[i , k+3])\n",
    "    neq = 0\n",
    "    for i in range(nnodes):\n",
    "        for j in range(2):\n",
    "            if IBC[i, j] == 0:\n",
    "                IBC[i, j] = neq\n",
    "                neq = neq + 1\n",
    "\n",
    "    return neq, IBC\n",
    "neq, IBC = eqcounter(nodes)"
   ]
  },
  {
   "cell_type": "markdown",
   "metadata": {},
   "source": [
    "### Element connectivites array IELCON()\n",
    "\n",
    "Step (iii) in the process is completed after relating nodes in each element to the equation numbers specified in **IBC()**. The nodal points defining each element are input in a data file (see figure below). Note that each nodal identifier indicates the row in the **IBC()** array storing the equation numbers assigned to this node.\n",
    "\n",
    "\n",
    "<center><img src=\"img/elesF.png\" alt=\"files\" style=\"width:400px\"></center>\n",
    "\n",
    "\n",
    "The nodal data for each element is stored in a connectivities array **IELCON()** where the row and element number coincide.\n",
    "\n",
    "\n",
    "$$\n",
    "\\begin{array} {c}0\\\\1\\\\2\\\\3\\end{array}\\begin{bmatrix}0&1&4&3\\\\3&4&7&6\\\\4&5&8&7\\\\1&2&5&4\\end{bmatrix}\n",
    "$$\n",
    "\n",
    "**Question:**\n",
    "\n",
    "**Modify the node ordering in the definition of each elementand explain what would be the implications of this change in the local stiffness matrix.**\n",
    "\n",
    "### The assembly operator DME() array\n",
    "\n",
    "The final step in the construction of the assembly operator, termed here the **DME()** operator is just the translation of the **IELCON()** array storing nodal numbers into equation numbers stored in **IBC()**:\n",
    "\n",
    "$$\n",
    "\\begin{array}{c}0\\\\1\\\\2\\\\3\\end{array}\\begin{bmatrix}0&-1&-1&-1&4&5&2&3\\\\2&3&4&5&10&11&8&9\\\\4&5&6&7&12&13&10&11\\\\-1&-1&1&-1&6&7&4&5\\end{bmatrix}\n",
    "$$\n",
    "\n",
    "\n",
    "**Question:**\n",
    "\n",
    "**(i) Use the IELCON() array together with the boundary conditions array IBC() to find the assembly operator.**\n",
    "\n",
    "**(ii) Use a different numberig scheme for the sample mesh shown above and repeat the computation of the assebly operator.**\n",
    "\n",
    "The **DME()** operator can now be used in a straight forward process relating local to global equations identifiers. For instance the first row of the stiffness matrix for element 2 is assembled as indicated next:\n",
    "\n",
    "\n",
    "$$\n",
    "\\begin{align*}\n",
    "K_{22}^G & \\leftarrow K_{22}^G+k_{00}^2\\\\\n",
    "K_{23}^G & \\leftarrow K_{23}^G+k_{01}^2\\\\\n",
    "K_{24}^G & \\leftarrow K_{24}^G+k_{02}^2\\\\\n",
    "K_{25}^G & \\leftarrow K_{25}^G+k_{03}^2\\\\\n",
    "K_{2,10}^G & \\leftarrow K_{2,10}^G+k_{04}^2\\\\\n",
    "K_{2,11}^G & \\leftarrow K_{2,11}^G+k_{05}^2\\\\\n",
    "K_{28}^G & \\leftarrow K_{28}^G+k_{06}^2\\\\\n",
    "K_{29}^G & \\leftarrow K_{29}^G+k_{07}^2\n",
    "\\end{align*}\n",
    "$$"
   ]
  },
  {
   "cell_type": "markdown",
   "metadata": {},
   "source": [
    "The **DME()** operator is obtained by the following subroutine which takes as input arguments the nodes and elements arrays and returns the assembly operator.\n",
    "\n",
    "**(Add comments to clarify the relevant steps in the code below)**."
   ]
  },
  {
   "cell_type": "code",
   "execution_count": 4,
   "metadata": {},
   "outputs": [],
   "source": [
    "def DME(nodes, elements):\n",
    "\n",
    "    nels = elements.shape[0]\n",
    "    IELCON = np.zeros([nels, 4], dtype=np.integer)\n",
    "    DME = np.zeros([nels, 8], dtype=np.integer)\n",
    "\n",
    "    neq, IBC = eqcounter(nodes)\n",
    "    ndof   = 8\n",
    "    nnodes = 4\n",
    "    ngpts  = 4\n",
    "    for i in range(nels):\n",
    "        for j in range(nnodes):\n",
    "            IELCON[i, j] = elements[i, j+3]\n",
    "            kk = IELCON[i, j]\n",
    "            for l in range(2):\n",
    "                DME[i, 2*j+l] = IBC[kk, l]\n",
    "\n",
    "    return DME , IBC , neq"
   ]
  },
  {
   "cell_type": "code",
   "execution_count": 5,
   "metadata": {},
   "outputs": [
    {
     "name": "stdout",
     "output_type": "stream",
     "text": [
      "[[ 0 -1 -1 -1  4  5  2  3]\n",
      " [ 2  3  4  5 10 11  8  9]\n",
      " [ 4  5  6  7 12 13 10 11]\n",
      " [-1 -1  1 -1  6  7  4  5]]\n"
     ]
    }
   ],
   "source": [
    "DME , IBC , neq = DME(nodes, elements)\n",
    "print(DME)"
   ]
  },
  {
   "cell_type": "markdown",
   "metadata": {},
   "source": [
    "It was shown that the assembly involves a typical step like:\n",
    "\n",
    "$$\n",
    "K_{22}^G \\leftarrow K_{22}^G+k_{00}^2\n",
    "$$\n",
    "\n",
    "which involves computation of local elemental matrices with terms $K_{ij}^q$. The following subroutine uses as input the **DME()** operator and loops through the elements of the mesh to compute the local matrix [see **UEL()**] and add its contribution into the global matrix.\n",
    "\n",
    "**(Add comments to clarify the relevant steps ion the code below)**."
   ]
  },
  {
   "cell_type": "code",
   "execution_count": 6,
   "metadata": {},
   "outputs": [],
   "source": [
    "def assembly(elements, mats, nodes, neq, DME, uel=None):\n",
    "\n",
    "    IELCON = np.zeros([4], dtype=np.integer)\n",
    "    KG = np.zeros((neq, neq))\n",
    "    nels = elements.shape[0]\n",
    "    nnodes = 4\n",
    "    ndof = 8\n",
    "    for el in range(nels):\n",
    "        elcoor = np.zeros([nnodes, 2])\n",
    "        im     = np.int(elements[el , 2])\n",
    "        par0, par1 = mats[im , :]\n",
    "        for j in range(nnodes):\n",
    "            IELCON[j] = elements[el , j+3]\n",
    "            elcoor[j, 0] = nodes[IELCON[j], 1]\n",
    "            elcoor[j, 1] = nodes[IELCON[j], 2]\n",
    "        kloc = uel4nquad(elcoor, par1, par0)\n",
    "        dme = DME[el, :ndof]\n",
    "        for row in range(ndof):\n",
    "            glob_row = dme[row]\n",
    "            if glob_row != -1:\n",
    "                for col in range(ndof):\n",
    "                    glob_col = dme[col]\n",
    "                    if glob_col != -1:\n",
    "                        KG[glob_row, glob_col] = KG[glob_row, glob_col] +\\\n",
    "                                                 kloc[row, col]\n",
    "\n",
    "    return KG"
   ]
  },
  {
   "cell_type": "markdown",
   "metadata": {},
   "source": [
    "In this case we have assumed that the elemental subroutine produces a stiffness matrix filled with $1$s.\n",
    "\n",
    "**(Complete this suboroutine with the implementation performed in NB 8)**."
   ]
  },
  {
   "cell_type": "code",
   "execution_count": 7,
   "metadata": {},
   "outputs": [],
   "source": [
    "def uel4nquad(coord, enu, Emod):\n",
    "\n",
    "    kl = np.ones([8, 8])\n",
    "    return kl"
   ]
  },
  {
   "cell_type": "code",
   "execution_count": 8,
   "metadata": {},
   "outputs": [
    {
     "name": "stdout",
     "output_type": "stream",
     "text": [
      "[[1. 0. 1. 1. 1. 1. 0. 0. 0. 0. 0. 0. 0. 0.]\n",
      " [0. 1. 0. 0. 1. 1. 1. 1. 0. 0. 0. 0. 0. 0.]\n",
      " [1. 0. 2. 2. 2. 2. 0. 0. 1. 1. 1. 1. 0. 0.]\n",
      " [1. 0. 2. 2. 2. 2. 0. 0. 1. 1. 1. 1. 0. 0.]\n",
      " [1. 1. 2. 2. 4. 4. 2. 2. 1. 1. 2. 2. 1. 1.]\n",
      " [1. 1. 2. 2. 4. 4. 2. 2. 1. 1. 2. 2. 1. 1.]\n",
      " [0. 1. 0. 0. 2. 2. 2. 2. 0. 0. 1. 1. 1. 1.]\n",
      " [0. 1. 0. 0. 2. 2. 2. 2. 0. 0. 1. 1. 1. 1.]\n",
      " [0. 0. 1. 1. 1. 1. 0. 0. 1. 1. 1. 1. 0. 0.]\n",
      " [0. 0. 1. 1. 1. 1. 0. 0. 1. 1. 1. 1. 0. 0.]\n",
      " [0. 0. 1. 1. 2. 2. 1. 1. 1. 1. 2. 2. 1. 1.]\n",
      " [0. 0. 1. 1. 2. 2. 1. 1. 1. 1. 2. 2. 1. 1.]\n",
      " [0. 0. 0. 0. 1. 1. 1. 1. 0. 0. 1. 1. 1. 1.]\n",
      " [0. 0. 0. 0. 1. 1. 1. 1. 0. 0. 1. 1. 1. 1.]]\n"
     ]
    }
   ],
   "source": [
    "KG = assembly(elements, mats, nodes, neq, DME)\n",
    "print(KG)"
   ]
  },
  {
   "cell_type": "markdown",
   "metadata": {},
   "source": [
    "**Question:**\n",
    "\n",
    "**For the mesh shown in the figure propose different node numbering schemes and identify the resulting changes in the size of the half-band in the stiffness matrix. Assume that each element subroutine is full of $1$s.**\n",
    "\n",
    "<center><img src=\"img/halfband.png\" alt=\"files\" style=\"width:300px\"></center>\n"
   ]
  },
  {
   "cell_type": "markdown",
   "metadata": {},
   "source": [
    "### Glossary of terms.\n",
    "\n",
    "**Boundary conditions array IBC():** Integer type array storing equation numbers assigned to each nodal point in the mesh.\n",
    "\n",
    "**Connectivity array IELCON():** Integer type array storing identifiers for the nodal points defining each element in the mesh.\n",
    "\n",
    "**Assembly:** Computational procedure by which the elemental stiffness matrix are properly added together to form the global stiffness matrix.\n",
    "\n",
    "**Assembly operator DME():** Integer type array storing the nodal connectivities from each element but translated into equation numbers through the boudnary conditions array **IBC()**."
   ]
  },
  {
   "cell_type": "markdown",
   "metadata": {},
   "source": [
    "## Class activity.\n",
    "\n",
    "* (i) Use the subroutines developed previously to compute the stiffness matrix of bi-linear and cuadratic finite elements to compute the global stiffness matrix for the sample problem discussed in this notebook and with the input files **Snodes.txt and Selements.txt** provided.\n",
    "\n",
    "* (ii) Assume nodal values for the active displacemnts and use the global matrix found in step (i) to find the internal forces vector $\\left\\{F_\\sigma\\right\\}$ consistent with the element stresses.\n",
    "\n",
    "* (iii) Repeat step (ii) but instead of assuming known nodal displacements find them after applying point forces along degrees of freedom $9$, $11$ and $13$ and solving the system of equations:\n",
    "\n",
    "\n",
    "$$\n",
    "\\left[K^G\\right]\\left\\{U^G\\right\\} = \\left\\{F\\right\\}.\n",
    "$$\n",
    "\n",
    "\n",
    "* (iv) Verify that the nodal displacemnts $U^G$ found in step (iii) produce internal forces $\\left\\{F_\\sigma\\right\\}$ in equilibrium with the external forces $\\left\\{F\\right\\}.$\n"
   ]
  },
  {
   "cell_type": "markdown",
   "metadata": {},
   "source": [
    "### References\n",
    "\n",
    "Bathe, Klaus-Jürgen. (2006) Finite element procedures. Klaus-Jurgen Bathe. Prentice Hall International.\n",
    "\n",
    "Juan Gómez, Nicolás Guarín-Zapata (2018). SolidsPy: 2D-Finite Element Analysis with Python, <https://github.com/AppliedMechanics-EAFIT/SolidsPy>."
   ]
  },
  {
   "cell_type": "code",
   "execution_count": 9,
   "metadata": {},
   "outputs": [
    {
     "data": {
      "text/html": [
       "\n",
       "<link href='http://fonts.googleapis.com/css?family=Fenix' rel='stylesheet' type='text/css'>\n",
       "<link href='http://fonts.googleapis.com/css?family=Alegreya+Sans:100,300,400,500,700,800,900,100italic,300italic,400italic,500italic,700italic,800italic,900italic' rel='stylesheet' type='text/css'>\n",
       "<link href='http://fonts.googleapis.com/css?family=Source+Code+Pro:300,400' rel='stylesheet' type='text/css'>\n",
       "<style>\n",
       "/* Based on Lorena Barba template available at: https://github.com/barbagroup/AeroPython/blob/master/styles/custom.css*/\n",
       "@font-face {\n",
       "font-family: \"Computer Modern\";\n",
       "src: url('http://mirrors.ctan.org/fonts/cm-unicode/fonts/otf/cmunss.otf');\n",
       "}\n",
       "div.cell{\n",
       "width:800px;\n",
       "margin-left:16% !important;\n",
       "margin-right:auto;\n",
       "}\n",
       "h1 {\n",
       "font-family: 'Alegreya Sans', sans-serif;\n",
       "}\n",
       "h2 {\n",
       "font-family: 'Fenix', serif;\n",
       "}\n",
       "h3{\n",
       "font-family: 'Fenix', serif;\n",
       "margin-top:12px;\n",
       "margin-bottom: 3px;\n",
       "}\n",
       "h4{\n",
       "font-family: 'Fenix', serif;\n",
       "}\n",
       "h5 {\n",
       "font-family: 'Alegreya Sans', sans-serif;\n",
       "}\t\n",
       "div.text_cell_render{\n",
       "font-family: 'Alegreya Sans',Computer Modern, \"Helvetica Neue\", Arial, Helvetica, Geneva, sans-serif;\n",
       "line-height: 135%;\n",
       "font-size: 120%;\n",
       "width:600px;\n",
       "margin-left:auto;\n",
       "margin-right:auto;\n",
       "}\n",
       ".CodeMirror{\n",
       "font-family: \"Source Code Pro\";\n",
       "font-size: 90%;\n",
       "}\n",
       "/* .prompt{\n",
       "display: None;\n",
       "}*/\n",
       ".text_cell_render h1 {\n",
       "font-weight: 200;\n",
       "font-size: 50pt;\n",
       "line-height: 100%;\n",
       "color:#CD2305;\n",
       "margin-bottom: 0.5em;\n",
       "margin-top: 0.5em;\n",
       "display: block;\n",
       "}\t\n",
       ".text_cell_render h5 {\n",
       "font-weight: 300;\n",
       "font-size: 16pt;\n",
       "color: #CD2305;\n",
       "font-style: italic;\n",
       "margin-bottom: .5em;\n",
       "margin-top: 0.5em;\n",
       "display: block;\n",
       "}\n",
       ".warning{\n",
       "color: rgb( 240, 20, 20 )\n",
       "}\n",
       "</style>\n",
       "<script>\n",
       "MathJax.Hub.Config({\n",
       "TeX: {\n",
       "extensions: [\"AMSmath.js\"]\n",
       "},\n",
       "tex2jax: {\n",
       "inlineMath: [ ['$','$'], [\"\\\\(\",\"\\\\)\"] ],\n",
       "displayMath: [ ['$$','$$'], [\"\\\\[\",\"\\\\]\"] ]\n",
       "},\n",
       "displayAlign: 'center', // Change this to 'center' to center equations.\n",
       "\"HTML-CSS\": {\n",
       "styles: {'.MathJax_Display': {\"margin\": 4}}\n",
       "}\n",
       "});\n",
       "</script>\n",
       "\n"
      ],
      "text/plain": [
       "<IPython.core.display.HTML object>"
      ]
     },
     "execution_count": 9,
     "metadata": {},
     "output_type": "execute_result"
    }
   ],
   "source": [
    "# This bit of code is a class added to make the title nice  (thanks to @lorenABarba )\n",
    "from IPython.core.display import HTML\n",
    "def css_styling():\n",
    "    styles = open('./styles/custom_barba.css', 'r').read()\n",
    "    return HTML(styles)\n",
    "css_styling()"
   ]
  },
  {
   "cell_type": "code",
   "execution_count": null,
   "metadata": {},
   "outputs": [],
   "source": []
  }
 ],
 "metadata": {
  "celltoolbar": "Raw Cell Format",
  "kernelspec": {
   "display_name": "Python 3",
   "language": "python",
   "name": "python3"
  },
  "language_info": {
   "codemirror_mode": {
    "name": "ipython",
    "version": 3
   },
   "file_extension": ".py",
   "mimetype": "text/x-python",
   "name": "python",
   "nbconvert_exporter": "python",
   "pygments_lexer": "ipython3",
   "version": "3.7.3"
  }
 },
 "nbformat": 4,
 "nbformat_minor": 1
}
