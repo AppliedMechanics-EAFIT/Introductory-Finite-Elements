{
 "cells": [
  {
   "cell_type": "markdown",
   "metadata": {
    "raw_mimetype": "text/latex"
   },
   "source": [
    "(c) Juan Gomez 2019. Thanks to Universidad EAFIT for support. This material is part of the course Introduction to Finite Element Analysis"
   ]
  },
  {
   "cell_type": "markdown",
   "metadata": {},
   "source": [
    "# Convergence of analysis results"
   ]
  },
  {
   "cell_type": "markdown",
   "metadata": {},
   "source": [
    "## Introduction\n",
    "\n",
    "In this section we address the problem of convergency of analysis results. We will approach the problem in a loose way proceeding from an engineering point of view. For a thorough discussion the reader is referred to textbooks of numerical analysis, see for instance Systèmes, D. (2012). Particularly we will review the fundamental aspects that must be satisfied by a finite element solution. In the first part we address the problem from the element point of view, while in the final part we study the convergence of particular problem in terms of several self-contained meshes.**After completing this notebook you should be able to:**\n",
    "\n",
    "* Recognize the total potential energy of a model like the fundamental descriptor of the response.\n",
    "\n",
    "* Perform a convergency analysis for a given finite element model."
   ]
  },
  {
   "cell_type": "markdown",
   "metadata": {},
   "source": [
    "## Definition of convergence\n",
    "\n",
    "Let $\\Pi$ be the total potential energy of a solid in equilibrium and under a elastic stress state. The value of $\\Pi$ for a given finite element mesh is given by:\n",
    "\n",
    "$$\n",
    "{\\Pi _{FE}} =  - \\frac{1}{2}{U^T}KU\n",
    "$$\n",
    "\n",
    "where $K$ and $U$ are the global stiffness matrix and global nodal displacements vector. If $q$ represents the number of finite elements in a given discretization then we define convergency as the condition that:\n",
    "\n",
    "$$\n",
    "\\mathop {\\lim }\\limits_{q \\to \\infty } {\\Pi_{FE}} \\to \\Pi \n",
    "$$\n",
    "\n",
    "\n",
    "\n",
    "To measure the state of stress associated to a given mesh we need to define a norm. Consider the square energy norm of the error $\\left\\| {{{\\vec e}_h}} \\right\\|_E^2$. This measure satisfies\n",
    "\n",
    "$$\\left\\| {{{\\vec e}_h}} \\right\\|_E^2 > 0$$\n",
    "\n",
    "and will be used as an error estimate of the accuraccy of the finite element solution. Particularly we will use the following relationship (see Systèmes, D. 2012).\n",
    "\n",
    "$$\n",
    "\\left\\| {{{\\vec e}_h}} \\right\\| \\le \\alpha {h^k}\n",
    "$$\n",
    "\n",
    "\n",
    "from which we can write:\n",
    "\n",
    "\n",
    "$$\n",
    "\\log \\left\\| {{{\\vec e}_h}} \\right\\| \\approx \\log \\alpha  + k\\log h\n",
    "$$\n",
    "\n",
    "\n",
    "In the expression above $k$ is the order of the complete interpolation polynomial present in the mesh and gives a measure of the order of convergence in the finite element solution, while the rate of convergency is given by $\\alpha$.\n",
    "\n",
    "\n",
    "## How to conduct the convergence analysis?\n",
    "\n",
    "In order to conduct the convergency study we perform a series of finite element analysis. For each mesh we compute $\\left\\| {\\vec u - {{\\vec u}_h}} \\right\\|$ which is equivalent to $\\vec e_h$ and where $\\vec u$ is the exact solution. In order to find the exact solution we assume that the most refined results have functionals corresponding to ${\\Pi _{n - 2}}$, ${\\Pi _{n - 1}}$ and ${\\Pi _{n}}$ from which:\n",
    "\n",
    "$$\n",
    "{\\Pi _{Exa}} = \\frac{{\\Pi _{n - 1}^2 - {\\Pi _n}{\\Pi _{n - 2}}}}{{(2{\\Pi _{n - 1}} - {\\Pi _n} - {\\Pi _{n - 2}})}}\n",
    "$$\n",
    "\n",
    "\n",
    "The procedure is summarized below:\n",
    "\n",
    "\n",
    "* Solve a series of meshes with solutions given by $\\vec u_1, \\vec u_2,...,\\vec u_n$. Each mesh has a characteristic element size $h$. Here the subscript represents a given discretization.\n",
    "* For each mesh find the total potential energy:\n",
    "\n",
    "$${\\Pi_h} =  - \\frac{1}{2}{U^T}KU$$\n",
    "\n",
    "* Using the most refined meshes compute the potential energy for the exact solution $\\Pi _{Exa}$.\n",
    "\n",
    "* For each mesh compute:\n",
    "\n",
    "$$\n",
    "\\frac{{\\left\\| {{{\\vec u}_{Exa}} - {{\\vec u}_h}} \\right\\|}}{{\\left\\| {{{\\vec u}_{Exa}}} \\right\\|}} \\equiv {\\left[ {\\frac{{{\\Pi _{Exa}} - {\\Pi _h}}}{{{\\Pi _{Exa}}}}} \\right]^{1/2}}\n",
    "$$\n",
    "\n",
    "and keep track of the results.\n",
    "\n"
   ]
  },
  {
   "cell_type": "markdown",
   "metadata": {},
   "source": [
    "* Plot the values of $\\log \\left( {\\frac{{\\left\\| {{{\\vec u}_{Exa}} - {{\\vec u}_h}} \\right\\|}}{{\\left\\| {{{\\vec u}_{Exa}}} \\right\\|}}} \\right)$ vs $\\log h$ and determine the slope which upon convergence must be close to the order of the complete polynomial used in the discretization."
   ]
  },
  {
   "cell_type": "markdown",
   "metadata": {},
   "source": [
    "### Example: Tappered bar in compression\n",
    "\n",
    "The figure below shows a tappered bar under a compressive uniformly distributed load of total magnitude $P=0.5$. The bar is of length $l=10$ and its large and short ends given by $h_1 = 2.0$ and $h_2 =0.5$ respectively. The material properties correspond to a Poisson's ratio and Young modulos $\\nu=0.30$ and $E=1.0$ respectively. We want to find the converged solution for the bar after using 3-noded triangular elements.\n",
    "\n",
    "\n",
    "\n"
   ]
  },
  {
   "cell_type": "markdown",
   "metadata": {},
   "source": [
    "<center><img src=\"img/tappered.png\" alt=\"files\" style=\"width:500px\"></center>"
   ]
  },
  {
   "cell_type": "markdown",
   "metadata": {},
   "source": [
    "Analyses were conduted with 4 consecutive meshes with decreasing element size given by $h=[1.0, 0.5, 0.25, 0.125]$.\n",
    "\n",
    "\n",
    "<center><img src=\"img/tapdata.png\" alt=\"files\" style=\"width:500px\"></center>"
   ]
  },
  {
   "cell_type": "markdown",
   "metadata": {},
   "source": [
    "Now assuming we have consecutive meshes each one obtained after halving the elements in the previous mesh we have the following approximation for the exact total potential energy of the system, computed the last most refined meshes:\n",
    "\n",
    "$${\\Pi _{Exa}} = \\frac{{{{1.161}^2} - ( - 1.160)( - 1.155)}}{{ - 2(1.161) - ( - 1.160) - ( - 1.155)}} = -1.160.$$\n",
    "\n",
    "To compute the energy norm of the error we use:\n",
    "\n",
    "$$\\frac{{\\left\\| {{{\\vec u}_{Exa}} - {{\\vec u}_{FE}}} \\right\\|}}{{\\left\\| {{{\\vec u}_{Exa}}} \\right\\|}} = {\\left[ {\\frac{{{\\Pi _{Exa}} - {\\prod _{FE}}}}{{{\\Pi _{Exa}}}}} \\right]^{1/2}}.$$\n",
    "\n",
    "\n",
    "\n",
    "To measure convergence we plot:\n",
    "\n",
    "$$\\log \\left( {\\left\\| {{{\\vec u}_{Exa}} - {{\\vec u}_{FE}}} \\right\\|} \\right) = \\log c + k\\log h$$\n"
   ]
  },
  {
   "cell_type": "markdown",
   "metadata": {},
   "source": [
    "<center><img src=\"img/convrate.png\" alt=\"files\" style=\"width:500px\"></center>"
   ]
  },
  {
   "cell_type": "markdown",
   "metadata": {},
   "source": [
    "### Computation of potential energy\n",
    "\n",
    "The files **Tnodes.txt**, **Teles.txt** , **Tmater.txt** and **Tloads.txt** contained in the **files** folder correspond to the finite element mesh for one of the **tappred bar** model. To compute the potential energy\n",
    "\n",
    "$${\\Pi_h} =  - \\frac{1}{2}{U^T}KU$$\n",
    "\n",
    "for the discretization the model is solved first using the dense assembly option."
   ]
  },
  {
   "cell_type": "code",
   "execution_count": 1,
   "metadata": {},
   "outputs": [],
   "source": [
    "%matplotlib inline        \n",
    "import matplotlib.pyplot as plt\n",
    "import numpy as np\n",
    "import sympy as sym\n",
    "import solidspy.assemutil as ass\n",
    "import solidspy.postprocesor as pos\n",
    "import solidspy.solutil as sol"
   ]
  },
  {
   "cell_type": "code",
   "execution_count": 2,
   "metadata": {},
   "outputs": [],
   "source": [
    "def readin():\n",
    "    nodes    = np.loadtxt('files/' + 'Tnodes.txt', ndmin=2)\n",
    "    mats     = np.loadtxt('files/' + 'Tmater.txt', ndmin=2)\n",
    "    elements = np.loadtxt('files/' + 'Teles.txt', ndmin=2, dtype=np.int)\n",
    "    loads    = np.loadtxt('files/' + 'Tloads.txt', ndmin=2)\n",
    "\n",
    "    return nodes, mats, elements, loads\n",
    "nodes, mats, elements, loads = readin()"
   ]
  },
  {
   "cell_type": "code",
   "execution_count": 3,
   "metadata": {},
   "outputs": [
    {
     "name": "stdout",
     "output_type": "stream",
     "text": [
      "0.5785646424764832\n"
     ]
    }
   ],
   "source": [
    "DME , IBC , neq = ass.DME(nodes, elements)\n",
    "KG = ass.assembler(elements, mats, nodes, neq, DME, sparse=False)\n",
    "RHSG = ass.loadasem(loads, IBC, neq)\n",
    "UG = sol.static_sol(KG, RHSG)\n",
    "UC = pos.complete_disp(IBC, nodes, UG)\n",
    "Energy = np.dot(np.dot(UG.T , KG) , UG)\n",
    "print(Energy)"
   ]
  },
  {
   "cell_type": "markdown",
   "metadata": {},
   "source": [
    "### Glossary of terms\n",
    "\n",
    "**Converged solution:** A finite element solution associated to a specific discretization and numerically considered as close enough to the exact solution.\n",
    "\n",
    "**Norm:** Specific mathematical form of measuring the magnitude of a vector in a given basis.\n",
    "\n",
    "**Convergency analysis:** A series of finite element analysis of a given computational domain with increasingly refined meshes in order to determined an accepatble solution."
   ]
  },
  {
   "cell_type": "markdown",
   "metadata": {},
   "source": [
    "## Class activity.\n",
    "\n",
    "Consider the cantilever beam shown below:\n",
    "\n",
    "\n",
    "<center><img src=\"img/canti.png\" alt=\"files\" style=\"width:500px\"></center>\n",
    "\n",
    "\n",
    "with analytic solution (Timoshenko and Goodier,1976) ) given by:\n",
    "\n",
    "$$u =  - \\frac{P}{{2EI}}{x^2}y - \\frac{{\\nu P}}{{6EI}}{y^3} + \\frac{P}{{2IG}}{y^3} + \\left( {\\frac{{P{l^2}}}{{2EI}} - \\frac{{P{c^2}}}{{2IG}}} \\right)y$$\n",
    "\n",
    "$$v = \\frac{{\\nu P}}{{2EI}}x{y^2} + \\frac{P}{{6EI}}{x^3} - \\frac{{P{l^2}}}{{2EI}}x + \\frac{{P{l^3}}}{{3EI}}$$\n",
    "\n",
    "$${\\varepsilon _{xx}} = \\frac{{\\partial u}}{{\\partial x}} \\equiv  - \\frac{P}{{EI}}xy$$\n",
    "\n",
    "$${\\varepsilon _{yy}} = \\frac{{\\partial v}}{{\\partial y}} \\equiv \\frac{{\\nu P}}{{EI}}xy$$\n",
    "\n",
    "$${\\gamma _{xy}} = \\frac{{\\partial u}}{{\\partial y}} + \\frac{{\\partial v}}{{\\partial x}} \\equiv \\frac{P}{{2IG}}\\left( {{y^2} - {c^2}} \\right).$$\n",
    "\n",
    "The values of the material parameters are $E=1000.0$ and $\\nu=0.30$ while the beam dimensions are $l=24$ and $2c=8$ and the applied load is $P=50$ (upwards).\n",
    "\n",
    "Perform a finite element simulation using a series of refined meshes with charateristic element size corresponding to $h=[6.0,3.0,1.5,0.75,0.375]$ and show that convergence is achieved. To conduct the finite element analysis fill out \\cref{problem}\n",
    "\n"
   ]
  },
  {
   "cell_type": "markdown",
   "metadata": {},
   "source": [
    "### References\n",
    "\n",
    "* Bathe, Klaus-Jürgen. (2006) Finite element procedures. Klaus-Jurgen Bathe. Prentice Hall International.\n",
    "\n",
    "* Juan Gómez, Nicolás Guarín-Zapata (2018). SolidsPy: 2D-Finite Element Analysis with Python, <https://github.com/AppliedMechanics-EAFIT/SolidsPy>.\n",
    "\n",
    "* Systèmes, D. (2012). ABAQUS 6.12 Theory manual. Dassault Systèmes Simulia Corp., Providence, Rhode Island.\n",
    "\n",
    "* Timoshenko, S.P., and Goodier, J.N. (1976). Theory of Elasticity. International Student Edition. McGraw-Hill International."
   ]
  },
  {
   "cell_type": "code",
   "execution_count": 1,
   "metadata": {},
   "outputs": [
    {
     "data": {
      "text/html": [
       "\n",
       "<link href='http://fonts.googleapis.com/css?family=Fenix' rel='stylesheet' type='text/css'>\n",
       "<link href='http://fonts.googleapis.com/css?family=Alegreya+Sans:100,300,400,500,700,800,900,100italic,300italic,400italic,500italic,700italic,800italic,900italic' rel='stylesheet' type='text/css'>\n",
       "<link href='http://fonts.googleapis.com/css?family=Source+Code+Pro:300,400' rel='stylesheet' type='text/css'>\n",
       "\n",
       "<style>\n",
       "\n",
       "/*\n",
       "Template for Notebooks for Modelación computacional.\n",
       "\n",
       "Based on Lorena Barba template available at:\n",
       "\n",
       "    https://github.com/barbagroup/AeroPython/blob/master/styles/custom.css\n",
       "*/\n",
       "\n",
       "/* Fonts */\n",
       "@font-face {\n",
       "font-family: \"Computer Modern\";\n",
       "src: url('http://mirrors.ctan.org/fonts/cm-unicode/fonts/otf/cmunss.otf');\n",
       "}\n",
       "\n",
       "/* Text */\n",
       "div.cell{\n",
       "width:800px;\n",
       "margin-left:16% !important;\n",
       "margin-right:auto;\n",
       "}\n",
       "h1 {\n",
       "font-family: 'Alegreya Sans', sans-serif;\n",
       "}\n",
       "h2 {\n",
       "font-family: 'Fenix', serif;\n",
       "}\n",
       "h3{\n",
       "font-family: 'Fenix', serif;\n",
       "margin-top:12px;\n",
       "margin-bottom: 3px;\n",
       "}\n",
       "h4{\n",
       "font-family: 'Fenix', serif;\n",
       "}\n",
       "h5 {\n",
       "font-family: 'Alegreya Sans', sans-serif;\n",
       "}\t\n",
       "div.text_cell_render{\n",
       "font-family: 'Alegreya Sans',Computer Modern, \"Helvetica Neue\", Arial, Helvetica, Geneva, sans-serif;\n",
       "line-height: 135%;\n",
       "font-size: 120%;\n",
       "width:600px;\n",
       "margin-left:auto;\n",
       "margin-right:auto;\n",
       "}\n",
       ".CodeMirror{\n",
       "font-family: \"Source Code Pro\";\n",
       "font-size: 90%;\n",
       "}\n",
       "/* .prompt{\n",
       "display: None;\n",
       "}*/\n",
       ".text_cell_render h1 {\n",
       "font-weight: 200;\n",
       "font-size: 50pt;\n",
       "line-height: 100%;\n",
       "color:#CD2305;\n",
       "margin-bottom: 0.5em;\n",
       "margin-top: 0.5em;\n",
       "display: block;\n",
       "}\t\n",
       ".text_cell_render h5 {\n",
       "font-weight: 300;\n",
       "font-size: 16pt;\n",
       "color: #CD2305;\n",
       "font-style: italic;\n",
       "margin-bottom: .5em;\n",
       "margin-top: 0.5em;\n",
       "display: block;\n",
       "}\n",
       ".warning{\n",
       "color: rgb( 240, 20, 20 )\n",
       "}\n",
       "</style>\n",
       "\n",
       "<script>\n",
       "/* Equations */\n",
       "\n",
       "MathJax.Hub.Config({\n",
       "TeX: {\n",
       "extensions: [\"AMSmath.js\"]\n",
       "},\n",
       "tex2jax: {\n",
       "inlineMath: [ ['$','$'], [\"\\\\(\",\"\\\\)\"] ],\n",
       "displayMath: [ ['$$','$$'], [\"\\\\[\",\"\\\\]\"] ]\n",
       "},\n",
       "displayAlign: 'center', // Change this to 'center' to center equations.\n",
       "\"HTML-CSS\": {\n",
       "styles: {'.MathJax_Display': {\"margin\": 4}}\n",
       "}\n",
       "});\n",
       "</script>\n",
       "\n",
       "\n"
      ],
      "text/plain": [
       "<IPython.core.display.HTML object>"
      ]
     },
     "execution_count": 1,
     "metadata": {},
     "output_type": "execute_result"
    }
   ],
   "source": [
    "from IPython.core.display import HTML\n",
    "def css_styling():\n",
    "    styles = open('./nb_style.css', 'r').read()\n",
    "    return HTML(styles)\n",
    "css_styling()"
   ]
  },
  {
   "cell_type": "code",
   "execution_count": null,
   "metadata": {},
   "outputs": [],
   "source": []
  }
 ],
 "metadata": {
  "celltoolbar": "Raw Cell Format",
  "kernelspec": {
   "display_name": "Python 3",
   "language": "python",
   "name": "python3"
  },
  "language_info": {
   "codemirror_mode": {
    "name": "ipython",
    "version": 3
   },
   "file_extension": ".py",
   "mimetype": "text/x-python",
   "name": "python",
   "nbconvert_exporter": "python",
   "pygments_lexer": "ipython3",
   "version": "3.6.9"
  },
  "varInspector": {
   "cols": {
    "lenName": 16,
    "lenType": 16,
    "lenVar": 40
   },
   "kernels_config": {
    "python": {
     "delete_cmd_postfix": "",
     "delete_cmd_prefix": "del ",
     "library": "var_list.py",
     "varRefreshCmd": "print(var_dic_list())"
    },
    "r": {
     "delete_cmd_postfix": ") ",
     "delete_cmd_prefix": "rm(",
     "library": "var_list.r",
     "varRefreshCmd": "cat(var_dic_list()) "
    }
   },
   "types_to_exclude": [
    "module",
    "function",
    "builtin_function_or_method",
    "instance",
    "_Feature"
   ],
   "window_display": false
  }
 },
 "nbformat": 4,
 "nbformat_minor": 1
}
