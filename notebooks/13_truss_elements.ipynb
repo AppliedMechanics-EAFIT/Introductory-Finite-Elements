{
 "cells": [
  {
   "cell_type": "markdown",
   "metadata": {
    "raw_mimetype": "text/latex"
   },
   "source": [
    "(c) Juan Gomez 2019. Thanks to Universidad EAFIT for support. This material is part of the course Introduction to Finite Element Analysis"
   ]
  },
  {
   "cell_type": "markdown",
   "metadata": {},
   "source": [
    "# Two-dimensional truss elements"
   ]
  },
  {
   "cell_type": "markdown",
   "metadata": {},
   "source": [
    "The simple code implemented for the springs elements in a previous notebook can be easily adapted to consider an assemblage of two-dimensional truss elements. In fact the code can be converted into a general program to consider a variety of (finite) elements just by adding subroutines with the force-displacement (stiffness) equations for each element.\n",
    "\n",
    "In this particular problem a typical element of axial stiffness $\\frac{AE}{\\mathcal l}$ is shown in its local reference system in the figure below: \n",
    "\n",
    "<center><img src=\"img/trussloc.png\" alt=\"files\" style=\"width:400px\"></center>\n",
    "\n",
    "Note that since the element has only axial stiffness the force-displacement relationship in its local reference system is of the form: \n",
    "\n",
    "$$\n",
    "\\begin{Bmatrix}f_1\\\\f_2\\end{Bmatrix}=\\frac{AE}{\\mathcal l}\\begin{bmatrix}1&-1\\\\-1&1\\end{bmatrix}\\begin{Bmatrix}u_1\\\\u_2\\end{Bmatrix}\n",
    "$$\n",
    "\n",
    "which is also analogous to the one in the spring element.\n"
   ]
  },
  {
   "cell_type": "markdown",
   "metadata": {},
   "source": [
    "### Assemblage of truss elements.\n",
    "\n",
    "Cosnsider the two-elements assemblage shown below.\n",
    "\n",
    "\n",
    "<center><img src=\"img/cercha2.png\" alt=\"files\" style=\"width:500px\"></center>\n",
    "\n",
    "To obtain the total stiffness from the structure it is now necessary to consider the stiffness contribution from all the elements in a common (**Global**) reference system.\n",
    "\n",
    "Let:\n",
    "\n",
    "* $U, F$ : Displacements degrees of freedom and forces in the global reference system.\n",
    "* $u, f$ : Displacements degrees of freedom and forces in the local reference system.\n",
    "\n",
    "and related by the rotational transformation matrix $\\lambda$ like;\n",
    "\n",
    "$$u=\\lambda U.$$\n",
    "\n",
    "Using the fact that the virtual energy of the forces upon imposition of virtual displacements is a reference-independent scalar quantity gives:\n",
    "\n",
    "$$\\delta U^TF=\\delta u^Tf.$$\n",
    "\n",
    "Using the first equation in the second yields;\n",
    "\n",
    "$$\\delta U^TF=\\delta U^T\\lambda^Tf$$\n",
    "\n",
    "from which:\n",
    "\n",
    "$$F=\\lambda^Tf.$$\n",
    "\n",
    "Now, conisdering the equilibrium relation for the element in the local system:\n",
    "\n",
    "$$f=ku$$\n",
    "\n",
    "where $k$ is the local stiffness matrix we can write:\n",
    "\n",
    "$$\\begin{array}{l}\\lambda^Tf=\\lambda^Tku\\\\\\lambda^Tf=\\lambda^Tk\\lambda U\\\\F=KU\\end{array}$$\n",
    "\n",
    "from which:\n",
    "\n",
    "$$K=\\lambda^Tk\\lambda$$\n",
    "\n",
    "where $K$ is the stiffness matrix for the two-dimensional truss element in the global reference system. It must be observed that in the global reference system the element has two degrees of freedom per node.\n",
    "\n",
    "In the actual implementation all the information required to compute $K$ is passed as input paramters to the elemental subroutine **uel()** as described below.\n",
    "\n",
    "**Question: Find the rotational transformation matrix $\\lambda$ required for the formulation of the stiffness matrix in the global reference system.**"
   ]
  },
  {
   "cell_type": "markdown",
   "metadata": {},
   "source": [
    "### Example"
   ]
  },
  {
   "cell_type": "markdown",
   "metadata": {},
   "source": [
    "The modifications that must be applied to the spring-elements based code are only related to the fact that now there are 2 degrees of freedom are each nodal point.\n",
    "\n",
    "(The required input files containing the input data for the nodes, elements, materials parameters and loads are in the folder **files** of this REPO.)"
   ]
  },
  {
   "cell_type": "code",
   "execution_count": 9,
   "metadata": {
    "collapsed": true
   },
   "outputs": [],
   "source": [
    "%matplotlib inline        \n",
    "import matplotlib.pyplot as plt\n",
    "import numpy as np\n",
    "import sympy as sym"
   ]
  },
  {
   "cell_type": "markdown",
   "metadata": {},
   "source": [
    "Read the input files from the **files** folder. "
   ]
  },
  {
   "cell_type": "code",
   "execution_count": 10,
   "metadata": {
    "collapsed": true
   },
   "outputs": [],
   "source": [
    "def readin():\n",
    "    nodes    = np.loadtxt('files/' + 'Cnodes.txt', ndmin=2)\n",
    "    mats     = np.loadtxt('files/' + 'Cmater.txt', ndmin=2)\n",
    "    elements = np.loadtxt('files/' + 'Celes.txt' , ndmin=2)\n",
    "    loads    = np.loadtxt('files/' + 'Cloads.txt', ndmin=2)\n",
    "\n",
    "    return nodes, mats, elements, loads"
   ]
  },
  {
   "cell_type": "markdown",
   "metadata": {},
   "source": [
    "**eqcounter** counts equations and generates the boundary conditions array in its second instance."
   ]
  },
  {
   "cell_type": "code",
   "execution_count": 11,
   "metadata": {
    "collapsed": true
   },
   "outputs": [],
   "source": [
    "def eqcounter(nodes):\n",
    "    nnodes = nodes.shape[0]\n",
    "    IBC = np.zeros([nnodes, 2], dtype=np.integer)\n",
    "    for i in range(nnodes):\n",
    "        for k in range(2):\n",
    "            IBC[i , k] = int(nodes[i , k+3])\n",
    "    neq = 0\n",
    "    for i in range(nnodes):\n",
    "        for j in range(2):\n",
    "            if IBC[i, j] == 0:\n",
    "                IBC[i, j] = neq\n",
    "                neq = neq + 1\n",
    "\n",
    "    return neq, IBC"
   ]
  },
  {
   "cell_type": "markdown",
   "metadata": {},
   "source": [
    "**DME** computes the assembly operator."
   ]
  },
  {
   "cell_type": "code",
   "execution_count": 12,
   "metadata": {
    "collapsed": true
   },
   "outputs": [],
   "source": [
    "def DME(nodes, elements):\n",
    "\n",
    "    nels = elements.shape[0]\n",
    "    IELCON = np.zeros([nels, 2], dtype=np.integer)\n",
    "    DME    = np.zeros([nels, 4], dtype=np.integer)\n",
    "    neq , IBC = eqcounter(nodes)\n",
    "    ndof   = 4\n",
    "    nnodes = 2\n",
    "    for i in range(nels):\n",
    "        for j in range(nnodes):\n",
    "            IELCON[i, j] = elements[i, j+3]\n",
    "            kk = IELCON[i, j]\n",
    "            for l in range(2):\n",
    "                DME[i, 2*j+l] = IBC[kk, l]\n",
    "    return DME , IBC , neq"
   ]
  },
  {
   "cell_type": "markdown",
   "metadata": {},
   "source": [
    "**assembly** uses the model and the **DME** operator to compute the global stiffness matrix.\n"
   ]
  },
  {
   "cell_type": "code",
   "execution_count": 13,
   "metadata": {
    "collapsed": true
   },
   "outputs": [],
   "source": [
    "def assembly(elements, mats, nodes, neq, DME, uel=None):\n",
    "\n",
    "    IELCON = np.zeros([2], dtype=np.integer)\n",
    "    KG = np.zeros((neq, neq))\n",
    "    nels = elements.shape[0]\n",
    "    nnodes = 2\n",
    "    ndof = 4\n",
    "    for el in range(nels):\n",
    "        elcoor = np.zeros([nnodes, 2])\n",
    "        im     = np.int(elements[el , 2])\n",
    "        par0= mats[im ,0]\n",
    "        par1= mats[im , 1]\n",
    "        for j in range(nnodes):\n",
    "            IELCON[j] = elements[el , j+3]\n",
    "            elcoor[j , 0] = nodes[IELCON[j], 1]\n",
    "            elcoor[j , 1] = nodes[IELCON[j], 2]\n",
    "        kloc = ueltruss2D(elcoor, par0, par1)\n",
    "        dme = DME[el , :ndof]\n",
    "        for row in range(ndof):\n",
    "            glob_row = dme[row]\n",
    "            if glob_row != -1:\n",
    "                for col in range(ndof):\n",
    "                    glob_col = dme[col]\n",
    "                    if glob_col != -1:\n",
    "                        KG[glob_row, glob_col] = KG[glob_row, glob_col] +\\\n",
    "                                                 kloc[row, col]\n",
    "\n",
    "    return KG"
   ]
  },
  {
   "cell_type": "markdown",
   "metadata": {},
   "source": [
    "**ueltruss2D** uses the nodal point coordinates and the material parameters to compute the local stiffness matrix transformed to the global reference system.\n",
    "\n",
    "**Question: Add comments to explains the different steps in the following subroutine. In particular identify the computation of the rotational transformation matrix $\\lambda$.**"
   ]
  },
  {
   "cell_type": "code",
   "execution_count": 14,
   "metadata": {
    "collapsed": true
   },
   "outputs": [],
   "source": [
    "def ueltruss2D(coord, A, Emod):\n",
    "    vec = coord[1, :] - coord[0, :]\n",
    "    length = np.linalg.norm(vec)\n",
    "    nx = vec[0]/length\n",
    "    ny = vec[1]/length\n",
    "    Q = np.array([\n",
    "        [nx, ny , 0 , 0],\n",
    "        [0,  0, nx , ny]])\n",
    "    kl = (A*Emod/length) * np.array([\n",
    "        [1, -1],\n",
    "        [-1, 1]])\n",
    "    kG = np.dot(np.dot(Q.T, kl), Q)\n",
    "    return kG"
   ]
  },
  {
   "cell_type": "markdown",
   "metadata": {},
   "source": [
    "**loadassem** forms the vector of nodal loads."
   ]
  },
  {
   "cell_type": "code",
   "execution_count": 15,
   "metadata": {
    "collapsed": true
   },
   "outputs": [],
   "source": [
    "def loadasem(loads, IBC, neq, nl):\n",
    "    \"\"\"Assembles the global Right Hand Side Vector RHSG\n",
    "\n",
    "    Parameters\n",
    "    ----------\n",
    "    loads : ndarray\n",
    "      Array with the loads imposed in the system.\n",
    "    IBC : ndarray (int)\n",
    "      Array that maps the nodes with number of equations.\n",
    "    neq : int\n",
    "      Number of equations in the system after removing the nodes\n",
    "      with imposed displacements.\n",
    "    nl : int\n",
    "      Number of loads.\n",
    "\n",
    "    Returns\n",
    "    -------\n",
    "    RHSG : ndarray\n",
    "      Array with the right hand side vector.\n",
    "\n",
    "    \"\"\"\n",
    "    RHSG = np.zeros([neq])\n",
    "    for i in range(nl):\n",
    "        il = int(loads[i, 0])\n",
    "        ilx = IBC[il , 0]\n",
    "        ily = IBC[il , 1]\n",
    "        if ilx != -1:\n",
    "            RHSG[ilx] = loads[i, 1]\n",
    "        if ily != -1:\n",
    "            RHSG[ily] = loads[i, 2]\n",
    "\n",
    "    return RHSG"
   ]
  },
  {
   "cell_type": "markdown",
   "metadata": {},
   "source": [
    "The main program still retains the same structure as follows:\n",
    "\n",
    "* Reads the model\n",
    "* Builds the DME() operator\n",
    "* Assembles the global system of equations\n",
    "* Solves for the global displacements $UG$"
   ]
  },
  {
   "cell_type": "code",
   "execution_count": 16,
   "metadata": {},
   "outputs": [
    {
     "name": "stdout",
     "output_type": "stream",
     "text": [
      "[ 0.53009278 -0.17789364]\n"
     ]
    }
   ],
   "source": [
    "nodes, mats, elements, loads = readin()\n",
    "DME , IBC , neq = DME(nodes, elements)\n",
    "KG   = assembly(elements, mats, nodes, neq, DME)\n",
    "RHSG = loadasem(loads, IBC, neq, 1)\n",
    "UG = np.linalg.solve(KG, RHSG)\n",
    "print(UG)"
   ]
  },
  {
   "cell_type": "markdown",
   "metadata": {},
   "source": [
    "### Proposed problems\n",
    "#### Problem 1\n",
    "Implement a subroutine to compute the nodal forces in each element and verify the equilibrium of the system.\n",
    "\n",
    "#### Problem 2\n",
    "Find the lateral stiffness of the structure using the relation:\n",
    "\n",
    "$$k=\\frac P\\delta$$\n",
    "\n",
    "#### Problem 3\n",
    "By introducing the necessary modifications to the input files, find the resulting displacement solution after adding a third bar connecting nodes $0$ and $2$. Comment on your results.\n",
    "\n",
    "#### Problem 4\n",
    "Fix the truss structure shown in the figure by adding elements and/or imposing appropiate displacement boundary conditions. (Create a new set of input files.)\n",
    "\n",
    "<center><img src=\"img/cercha3.png\" alt=\"files\" style=\"width:400px\"></center>"
   ]
  },
  {
   "cell_type": "markdown",
   "metadata": {},
   "source": [
    "### References\n",
    "\n",
    "* Bathe, Klaus-Jürgen. (2006) Finite element procedures. Klaus-Jurgen Bathe. Prentice Hall International.\n",
    "\n",
    "* Juan Gómez, Nicolás Guarín-Zapata (2018). SolidsPy: 2D-Finite Element Analysis with Python, <https://github.com/AppliedMechanics-EAFIT/SolidsPy>."
   ]
  },
  {
   "cell_type": "code",
   "execution_count": 1,
   "metadata": {},
   "outputs": [
    {
     "data": {
      "text/html": [
       "\n",
       "<link href='http://fonts.googleapis.com/css?family=Fenix' rel='stylesheet' type='text/css'>\n",
       "<link href='http://fonts.googleapis.com/css?family=Alegreya+Sans:100,300,400,500,700,800,900,100italic,300italic,400italic,500italic,700italic,800italic,900italic' rel='stylesheet' type='text/css'>\n",
       "<link href='http://fonts.googleapis.com/css?family=Source+Code+Pro:300,400' rel='stylesheet' type='text/css'>\n",
       "\n",
       "<style>\n",
       "\n",
       "/*\n",
       "Template for Notebooks for Modelación computacional.\n",
       "\n",
       "Based on Lorena Barba template available at:\n",
       "\n",
       "    https://github.com/barbagroup/AeroPython/blob/master/styles/custom.css\n",
       "*/\n",
       "\n",
       "/* Fonts */\n",
       "@font-face {\n",
       "font-family: \"Computer Modern\";\n",
       "src: url('http://mirrors.ctan.org/fonts/cm-unicode/fonts/otf/cmunss.otf');\n",
       "}\n",
       "\n",
       "/* Text */\n",
       "div.cell{\n",
       "width:800px;\n",
       "margin-left:16% !important;\n",
       "margin-right:auto;\n",
       "}\n",
       "h1 {\n",
       "font-family: 'Alegreya Sans', sans-serif;\n",
       "}\n",
       "h2 {\n",
       "font-family: 'Fenix', serif;\n",
       "}\n",
       "h3{\n",
       "font-family: 'Fenix', serif;\n",
       "margin-top:12px;\n",
       "margin-bottom: 3px;\n",
       "}\n",
       "h4{\n",
       "font-family: 'Fenix', serif;\n",
       "}\n",
       "h5 {\n",
       "font-family: 'Alegreya Sans', sans-serif;\n",
       "}\t\n",
       "div.text_cell_render{\n",
       "font-family: 'Alegreya Sans',Computer Modern, \"Helvetica Neue\", Arial, Helvetica, Geneva, sans-serif;\n",
       "line-height: 135%;\n",
       "font-size: 120%;\n",
       "width:600px;\n",
       "margin-left:auto;\n",
       "margin-right:auto;\n",
       "}\n",
       ".CodeMirror{\n",
       "font-family: \"Source Code Pro\";\n",
       "font-size: 90%;\n",
       "}\n",
       "/* .prompt{\n",
       "display: None;\n",
       "}*/\n",
       ".text_cell_render h1 {\n",
       "font-weight: 200;\n",
       "font-size: 50pt;\n",
       "line-height: 100%;\n",
       "color:#CD2305;\n",
       "margin-bottom: 0.5em;\n",
       "margin-top: 0.5em;\n",
       "display: block;\n",
       "}\t\n",
       ".text_cell_render h5 {\n",
       "font-weight: 300;\n",
       "font-size: 16pt;\n",
       "color: #CD2305;\n",
       "font-style: italic;\n",
       "margin-bottom: .5em;\n",
       "margin-top: 0.5em;\n",
       "display: block;\n",
       "}\n",
       ".warning{\n",
       "color: rgb( 240, 20, 20 )\n",
       "}\n",
       "</style>\n",
       "\n",
       "<script>\n",
       "/* Equations */\n",
       "\n",
       "MathJax.Hub.Config({\n",
       "TeX: {\n",
       "extensions: [\"AMSmath.js\"]\n",
       "},\n",
       "tex2jax: {\n",
       "inlineMath: [ ['$','$'], [\"\\\\(\",\"\\\\)\"] ],\n",
       "displayMath: [ ['$$','$$'], [\"\\\\[\",\"\\\\]\"] ]\n",
       "},\n",
       "displayAlign: 'center', // Change this to 'center' to center equations.\n",
       "\"HTML-CSS\": {\n",
       "styles: {'.MathJax_Display': {\"margin\": 4}}\n",
       "}\n",
       "});\n",
       "</script>\n",
       "\n",
       "\n"
      ],
      "text/plain": [
       "<IPython.core.display.HTML object>"
      ]
     },
     "execution_count": 1,
     "metadata": {},
     "output_type": "execute_result"
    }
   ],
   "source": [
    "from IPython.core.display import HTML\n",
    "def css_styling():\n",
    "    styles = open('./nb_style.css', 'r').read()\n",
    "    return HTML(styles)\n",
    "css_styling()"
   ]
  },
  {
   "cell_type": "code",
   "execution_count": null,
   "metadata": {
    "collapsed": true
   },
   "outputs": [],
   "source": []
  }
 ],
 "metadata": {
  "celltoolbar": "Raw Cell Format",
  "kernelspec": {
   "display_name": "Python 3",
   "language": "python",
   "name": "python3"
  },
  "language_info": {
   "codemirror_mode": {
    "name": "ipython",
    "version": 3
   },
   "file_extension": ".py",
   "mimetype": "text/x-python",
   "name": "python",
   "nbconvert_exporter": "python",
   "pygments_lexer": "ipython3",
   "version": "3.6.9"
  },
  "varInspector": {
   "cols": {
    "lenName": 16,
    "lenType": 16,
    "lenVar": 40
   },
   "kernels_config": {
    "python": {
     "delete_cmd_postfix": "",
     "delete_cmd_prefix": "del ",
     "library": "var_list.py",
     "varRefreshCmd": "print(var_dic_list())"
    },
    "r": {
     "delete_cmd_postfix": ") ",
     "delete_cmd_prefix": "rm(",
     "library": "var_list.r",
     "varRefreshCmd": "cat(var_dic_list()) "
    }
   },
   "types_to_exclude": [
    "module",
    "function",
    "builtin_function_or_method",
    "instance",
    "_Feature"
   ],
   "window_display": false
  }
 },
 "nbformat": 4,
 "nbformat_minor": 1
}
