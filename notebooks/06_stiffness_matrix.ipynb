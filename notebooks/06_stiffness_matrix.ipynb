{
 "cells": [
  {
   "cell_type": "markdown",
   "metadata": {
    "raw_mimetype": "text/latex"
   },
   "source": [
    "(c) Juan Gomez 2019. Thanks to Universidad EAFIT for support. This material is part of the course Introduction to Finite Element Analysis"
   ]
  },
  {
   "cell_type": "markdown",
   "metadata": {},
   "source": [
    "# Computation of the stiffness matrix for plane strain elements"
   ]
  },
  {
   "cell_type": "markdown",
   "metadata": {},
   "source": [
    "## Introduction"
   ]
  },
  {
   "cell_type": "markdown",
   "metadata": {},
   "source": [
    "The stiffness matrix is a fundamental ingredient of the finite element method applied to the solution of boundary value problems in the theory of elasticity. It relates the nodal forces to the nodal displacements for individual elements and subsequently for the complete assemblage of elements. Its correct evaluation is of paramount importance as it is used to formulate equilibrium relations in the specific problem allowing the conversion of a continous problem into a discrete reperesentation. The computation of the stiffness matrix must be efficient and correct and must be able to handle a viriety of geometrical and physical aspects of the used finite elements. In this activity the student uses elements of interpolation theory, numerical integration and some basic aspects of theory of elasticity to compute and study the stiffness matrix in bi-lineal elements under plane strain assumptions. **After completing this notebook you should be able to:**\n",
    "\n",
    "* Identify the mathematical aspects involved in the formulation of stiffness matrices in the displacement-based finite element method applied to the theory of elasticity.\n",
    "\n",
    "* Implement efficient algorithms for the computation of the stiffness matrix in two-dimensional elements under plane strain.\n",
    "\n",
    "* Identify relationships between the fundamental elements of the stiffness matrix and the element geometry.\n",
    "\n",
    "* Recognize the relationship between some physical components of the theory of elasticty and its discrete version in terms of the stiffness matrix."
   ]
  },
  {
   "cell_type": "markdown",
   "metadata": {},
   "source": [
    "## The principle of virtual work.\n",
    "\n",
    "The finite element method applied in the solution of boundary value problems for theory of elasticity is based upon the discrete representation of the strain energy $\\delta W$ produced by the internal stresses $\\sigma_{ij}$ over the strain field $\\delta \\epsilon _{ij}$ due to a field of virtual displacements $\\delta u_i$ according to:\n",
    "\n",
    "$$\n",
    "\\delta W=\\int_{V(\\overrightarrow x)}\\sigma_{ij}\\delta\\varepsilon_{ij}\\operatorname dV(\\overrightarrow x).\n",
    "$$\n",
    "\n",
    "In elasticity the following relationships between the stress tensor $\\sigma_{ij}$ and the strain tensor $\\epsilon_{ij}$ hold:\n",
    "\n",
    "\n",
    "$$\\sigma_{ij}=C_{ijkl}\\varepsilon_{kl}$$\n",
    "\n",
    "while the strains $\\epsilon_{ij}$ are related to the displacements $u_i$ via:\n",
    "\n",
    "$$\\varepsilon_{ij}=\\frac12\\left(u_{i,j}+u_{j,i}\\right).$$\n",
    "\n",
    "In the above $C_{ijkl}$ is a fourth-order tensor of material constants."
   ]
  },
  {
   "cell_type": "markdown",
   "metadata": {},
   "source": [
    "## Class activity\n",
    "\n",
    "Working in teams of two students submit a **Jupyter Notebook** per team addressing the following points:\n",
    "\n",
    "* (i) Knowing that all the variables involved in $\\delta W$ can be represented in terms of the displacements vectors $u_i$ and $\\delta u_i$ (or its gradients), use indicial notation for both, physical and numerical terms to write down the discrete version of $\\delta W$ for a nodal point $Q$ of a generalized finite element.\n",
    "\n",
    "* (ii) From the expression resulting in (i) identify the (nodal) terms that are constant and therefore can be taken out of the integral. Identify the order (in terms of the number of free indices left) of the term inside the integral.\n",
    "\n",
    "* (iii) Identify the particular forms of the fields $\\sigma_{ij}$, $C_{ijkl}$ and $\\epsilon_{ij}$ for a plane-strain two-dimensional idealization and write down the relationship:\n",
    "\n",
    "$$\\sigma_{ij}=C_{ijkl}\\varepsilon_{kl}$$\n",
    "\n",
    "in explicit matrix representation.\n",
    "\n",
    "* (iv) Using explicit matrix representation re-write the integral found in step (ii) for the plane strain model assumed in step (iii). Write the explicit matrix relationships for the matrix block associated to the $Q$ nodal point.\n",
    "\n",
    "* (v) Implement a Python subroutine (or set of subroutines) to compute the integral found in step (iv) for the particular case of a bi-lineal finite element like the one shown in the figure below:\n",
    "\n",
    "<center><img src=\"img/physical.png\" alt=\"files\" style=\"width:300px\"></center>\n",
    "\n",
    "\n",
    "* (vi) To show the functionality of the subroutine implement a program that takes the input parameters and pass them to the subroutine. The subrotuine must be written in such a way that it can be easily extended or adapted to other elements.\n",
    "\n",
    "* (vii) Use the subroutine from step (v) to conduct a study on the effect of the element geometry in the stiffness matrix. Summarize your findings in a section labeled **Conclusions** at the end of the **notebook**."
   ]
  },
  {
   "cell_type": "markdown",
   "metadata": {},
   "source": [
    "## Grading criteria\n",
    "\n",
    "Grading will be awarded considering the following points:\n",
    "\n",
    "* The **notebook** must be written in an organized fashion including the theoretical and computational aspects that the team considers relevant and necessary to explain the work. A **notebook** with redundant and unncecessary information is equivalent to a **notebook** with incomplete information.\n",
    "\n",
    "* The code must inlcude comments that the team considers relevant and the subroutines must be simple, using intrinsic Python functions and avoiding unnecessary complexities.\n",
    "\n",
    "* The main subroutine must be written in such a way that it facilitates its generalization to other elements. To achieve this identify which tasks are general and which ones are particular to the element and code them as independent subroutines. For instance, the computation of a Jacobian tensor is a general process and it must work independently from the specific element being solved.\n",
    "\n",
    "* Although the implementation is an important aspect of the homework most of the credit is assigned to the results of the study from step (vii)."
   ]
  },
  {
   "cell_type": "markdown",
   "metadata": {},
   "source": [
    "## Notes:\n",
    "\n",
    "* The final subroutine to compute the stiffness matrix can be fully implemented starting from the subroutines developed previously in the notebooks covering interpolation theory and numerical integration.\n",
    "\n",
    "* Elements of indicial notation, and particularly, its use in finite elements are covered in the **Lecture Notes** in the section labeled **Combined index notation for finite element analysis**.\n",
    "\n",
    "* A good reference, useful in developing step (iii) is the classical Theory of Elasticity textbook from Timoshenko and Goodier. Similarly a reference that may be of some aid in the development of the complete homework is the finite elements textbook from Bathe. Both of them are detailed in the references section."
   ]
  },
  {
   "cell_type": "markdown",
   "metadata": {},
   "source": [
    "### References\n",
    "\n",
    "* Bathe, Klaus-Jürgen. Finite element procedures. Klaus-Jurgen Bathe, 2006.\n",
    "\n",
    "* Timoshenko, S.P., and Goodier, J.N. Theory of Elasticity. International Student Edition. McGraw-Hill International, 1976."
   ]
  },
  {
   "cell_type": "code",
   "execution_count": 1,
   "metadata": {},
   "outputs": [
    {
     "data": {
      "text/html": [
       "\n",
       "<link href='http://fonts.googleapis.com/css?family=Fenix' rel='stylesheet' type='text/css'>\n",
       "<link href='http://fonts.googleapis.com/css?family=Alegreya+Sans:100,300,400,500,700,800,900,100italic,300italic,400italic,500italic,700italic,800italic,900italic' rel='stylesheet' type='text/css'>\n",
       "<link href='http://fonts.googleapis.com/css?family=Source+Code+Pro:300,400' rel='stylesheet' type='text/css'>\n",
       "\n",
       "<style>\n",
       "\n",
       "/*\n",
       "Template for Notebooks for Modelación computacional.\n",
       "\n",
       "Based on Lorena Barba template available at:\n",
       "\n",
       "    https://github.com/barbagroup/AeroPython/blob/master/styles/custom.css\n",
       "*/\n",
       "\n",
       "/* Fonts */\n",
       "@font-face {\n",
       "font-family: \"Computer Modern\";\n",
       "src: url('http://mirrors.ctan.org/fonts/cm-unicode/fonts/otf/cmunss.otf');\n",
       "}\n",
       "\n",
       "/* Text */\n",
       "div.cell{\n",
       "width:800px;\n",
       "margin-left:16% !important;\n",
       "margin-right:auto;\n",
       "}\n",
       "h1 {\n",
       "font-family: 'Alegreya Sans', sans-serif;\n",
       "}\n",
       "h2 {\n",
       "font-family: 'Fenix', serif;\n",
       "}\n",
       "h3{\n",
       "font-family: 'Fenix', serif;\n",
       "margin-top:12px;\n",
       "margin-bottom: 3px;\n",
       "}\n",
       "h4{\n",
       "font-family: 'Fenix', serif;\n",
       "}\n",
       "h5 {\n",
       "font-family: 'Alegreya Sans', sans-serif;\n",
       "}\t\n",
       "div.text_cell_render{\n",
       "font-family: 'Alegreya Sans',Computer Modern, \"Helvetica Neue\", Arial, Helvetica, Geneva, sans-serif;\n",
       "line-height: 135%;\n",
       "font-size: 120%;\n",
       "width:600px;\n",
       "margin-left:auto;\n",
       "margin-right:auto;\n",
       "}\n",
       ".CodeMirror{\n",
       "font-family: \"Source Code Pro\";\n",
       "font-size: 90%;\n",
       "}\n",
       "/* .prompt{\n",
       "display: None;\n",
       "}*/\n",
       ".text_cell_render h1 {\n",
       "font-weight: 200;\n",
       "font-size: 50pt;\n",
       "line-height: 100%;\n",
       "color:#CD2305;\n",
       "margin-bottom: 0.5em;\n",
       "margin-top: 0.5em;\n",
       "display: block;\n",
       "}\t\n",
       ".text_cell_render h5 {\n",
       "font-weight: 300;\n",
       "font-size: 16pt;\n",
       "color: #CD2305;\n",
       "font-style: italic;\n",
       "margin-bottom: .5em;\n",
       "margin-top: 0.5em;\n",
       "display: block;\n",
       "}\n",
       ".warning{\n",
       "color: rgb( 240, 20, 20 )\n",
       "}\n",
       "</style>\n",
       "\n",
       "<script>\n",
       "/* Equations */\n",
       "\n",
       "MathJax.Hub.Config({\n",
       "TeX: {\n",
       "extensions: [\"AMSmath.js\"]\n",
       "},\n",
       "tex2jax: {\n",
       "inlineMath: [ ['$','$'], [\"\\\\(\",\"\\\\)\"] ],\n",
       "displayMath: [ ['$$','$$'], [\"\\\\[\",\"\\\\]\"] ]\n",
       "},\n",
       "displayAlign: 'center', // Change this to 'center' to center equations.\n",
       "\"HTML-CSS\": {\n",
       "styles: {'.MathJax_Display': {\"margin\": 4}}\n",
       "}\n",
       "});\n",
       "</script>\n",
       "\n",
       "\n"
      ],
      "text/plain": [
       "<IPython.core.display.HTML object>"
      ]
     },
     "execution_count": 1,
     "metadata": {},
     "output_type": "execute_result"
    }
   ],
   "source": [
    "from IPython.core.display import HTML\n",
    "def css_styling():\n",
    "    styles = open('./nb_style.css', 'r').read()\n",
    "    return HTML(styles)\n",
    "css_styling()"
   ]
  },
  {
   "cell_type": "code",
   "execution_count": null,
   "metadata": {},
   "outputs": [],
   "source": []
  }
 ],
 "metadata": {
  "celltoolbar": "Raw Cell Format",
  "kernelspec": {
   "display_name": "Python 3",
   "language": "python",
   "name": "python3"
  },
  "language_info": {
   "codemirror_mode": {
    "name": "ipython",
    "version": 3
   },
   "file_extension": ".py",
   "mimetype": "text/x-python",
   "name": "python",
   "nbconvert_exporter": "python",
   "pygments_lexer": "ipython3",
   "version": "3.6.9"
  },
  "varInspector": {
   "cols": {
    "lenName": 16,
    "lenType": 16,
    "lenVar": 40
   },
   "kernels_config": {
    "python": {
     "delete_cmd_postfix": "",
     "delete_cmd_prefix": "del ",
     "library": "var_list.py",
     "varRefreshCmd": "print(var_dic_list())"
    },
    "r": {
     "delete_cmd_postfix": ") ",
     "delete_cmd_prefix": "rm(",
     "library": "var_list.r",
     "varRefreshCmd": "cat(var_dic_list()) "
    }
   },
   "types_to_exclude": [
    "module",
    "function",
    "builtin_function_or_method",
    "instance",
    "_Feature"
   ],
   "window_display": false
  }
 },
 "nbformat": 4,
 "nbformat_minor": 1
}
