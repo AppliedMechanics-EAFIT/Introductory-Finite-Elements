{
 "cells": [
  {
   "cell_type": "markdown",
   "metadata": {
    "raw_mimetype": "text/latex"
   },
   "source": [
    "(c) Juan Gomez 2019. Thanks to Universidad EAFIT for support. This material is part of the course Introduction to Finite Element Analysis"
   ]
  },
  {
   "cell_type": "markdown",
   "metadata": {},
   "source": [
    "# Elasticity in a notebook"
   ]
  },
  {
   "cell_type": "markdown",
   "metadata": {},
   "source": [
    "## Introduction"
   ]
  },
  {
   "cell_type": "markdown",
   "metadata": {},
   "source": [
    "This notebook sumarizes the boundary value problem (BVP) for the linearized theory of elasticity. It is assumed that the student is familiar with the fundamental concepts of stress and strains. After presenting the BVP in its stress and displacements forms the NB focuses in the principle of virtual work as an alternative representation of equlibrium. The NB concludes with a proposed homework or in-class activity which particularizes the general equations to a two-dimensional idealization. **After completing this notebook you should be able to:**\n",
    "\n",
    "* Recognize the equations of equilibrium for a material point in an elastic medium in its stress and displacements forms.\n",
    "\n",
    "* Recognize the equations of equlibrium for a material point in an elastic medium in its displacement form, together with conditions of the displacement field at the surface as an elliptic boundary value problem.\n",
    "\n",
    "* Recognize the principle of virtual displacements as an alternative formulation of the equlibrium for a material point in an elastic medium.\n",
    "\n",
    "* Recognize two-dimensional idealizations in the forms of plane strain and plane stress models."
   ]
  },
  {
   "cell_type": "markdown",
   "metadata": {},
   "source": [
    "## Equilibrium equations.\n",
    "\n",
    "Consider the schematic representation of an elastic solid ocupying a volume $V$ bounded by the surface $S$. The volume and the surface are termed the **domain** and the **boundary** respectively. The outward vector normal to the boundary is $\\widehat n$.\n"
   ]
  },
  {
   "cell_type": "markdown",
   "metadata": {},
   "source": [
    "<center><img src=\"img/blow.png\" alt=\"files\" style=\"width:300px\"></center>"
   ]
  },
  {
   "cell_type": "markdown",
   "metadata": {},
   "source": [
    "The solid is subjected to the action of external actions in the form of **surface tractions $t_i^{(\\widehat n)}$** applied directly through the boundary and distant actions or **body forces $f_i$**. The prescribed surface tractions are applied over the part of the surface labeled $S_t$, while over the remaing part of the surface, $S_u = S - S_t$, there are prescribed displacements ${\\overline u}_i$. The prescribed tractions and displacements are termed the **boundary conditions (BCs)** of the problem and for the resulting boundary value problem to be well possed $S_t$ and $S_u$ must satisfy:\n",
    "\n",
    "\n",
    "\\begin{align*}\n",
    "S & =S_t\\cup S_u\\\\\n",
    "\\varnothing & =S_t\\cap S_u.\n",
    "\\end{align*}"
   ]
  },
  {
   "cell_type": "markdown",
   "metadata": {},
   "source": [
    "**Questions:**\n",
    "\n",
    "**For the problem shown in the figure below identify the tractions and displacements boundary conditions and specify the regions $S_t$ and $S_u$. Indicate the normal vector in each part of the surface.**\n",
    "\n",
    "**¿ Accordying to the specified BCs is the problem well possed?**\n",
    "\n",
    "<center><img src=\"img/wedge.png\" alt=\"files\" style=\"width:300px\"></center>\n"
   ]
  },
  {
   "cell_type": "markdown",
   "metadata": {},
   "source": [
    "### Governing equations\n",
    "\n",
    "To find governing equations for the internal stresses $\\sigma_{ij}$ appearing at a field point of position vector $\\overrightarrow x$ we apply the laws of conservation of linear momentum and of moment of momentum over an arbitrary region of the solid. From the arbitrariness in the computational region it follows that he equilibrium equations for a field point $\\overrightarrow x$ are:\n",
    "\n",
    "\\begin{align*}\n",
    "& \\sigma_{ij,j}+f_i=0\\\\\n",
    "& \\sigma_{ij}=\\sigma_{ji}.\n",
    "\\end{align*}\n",
    "\n",
    "for $\\overrightarrow x$ in $V$.\n",
    "\n",
    "There are two issues with the above equilibrium equations:\n",
    "\n",
    "* They have infinite solutions of the form $\\sigma_{ij}=\\sigma_{ij}(\\overrightarrow x)$.\n",
    "\n",
    "* There are 9 unknowns but only 6 equations making the systen indeterminate.\n",
    "\n",
    "\n",
    "To destroy the indeterminancy we must consider the kinematic changes in the problem and its connection to the stresses.\n",
    "\n",
    "\n"
   ]
  },
  {
   "cell_type": "markdown",
   "metadata": {},
   "source": [
    "**Questions:**\n",
    "\n",
    "**If the stress tensor at a point in a given reference system $x-y$ is given by the matrix**\n",
    "\n",
    "$$\n",
    "\\sigma=\\begin{bmatrix}\\sigma_{xx}&\\tau_{xy}\\\\\\tau_{xy}&\\sigma_{yy}\\end{bmatrix}\n",
    "$$\n",
    "\n",
    "**find the tensor at the same point but expressed in a second coordinate system $x' - y'$ rotated by an angle $\\theta$ with respect to the first one.**\n",
    "\n",
    "\n"
   ]
  },
  {
   "cell_type": "markdown",
   "metadata": {},
   "source": [
    "## Kinematic description.\n",
    "\n",
    "To describe the change in configuration at the **material point** level and the total change of configuration of the complete domain we represent local changes at a point in terms of the relative displacement $du_i$ as a linear transformation of differential fiber elements like:\n",
    "\n",
    "$$\n",
    "du_i=\\varepsilon_{ij}dx_j+\\omega_{ij}dx_j\n",
    "$$\n",
    "\n",
    "where $\\varepsilon_{ij}$ and $\\omega_{ij}$ are the strain tensor and the local rigid-body rotation vector respectively and given by:\n",
    "\n",
    "$$\n",
    "\\varepsilon_{ij}=\\frac12\\left(\\frac{\\partial u_i}{\\partial x_j}+\\frac{\\partial u_j}{\\partial x_i}\\right)\n",
    "$$\n",
    "\n",
    "and\n",
    "\n",
    "$$\n",
    "\\omega_{ij}=\\frac12\\left(\\frac{\\partial u_i}{\\partial x_j}-\\frac{\\partial u_j}{\\partial x_i}\\right).\n",
    "$$\n"
   ]
  },
  {
   "cell_type": "markdown",
   "metadata": {},
   "source": [
    "**Questions:**\n",
    "\n",
    "**Using explicit notation write the particular forms of the relative displacements vector $du_i$, the strain tensor $\\epsilon_{ij}$ and the rotation vector $\\omega_{ij}$ for a two-dimensional idealization.**"
   ]
  },
  {
   "cell_type": "markdown",
   "metadata": {},
   "source": [
    "## Stress-strain relationship (Hooke's law).\n",
    "\n",
    "For a linear elastic material the strains can be related to the stresses in terms of material parameters $\\mu$ and $\\lambda$ as given by the following general form of Hooke's law:\n",
    "\n",
    "\n",
    "$$\n",
    "\\sigma_{ij}=2\\mu\\varepsilon_{ij}+\\lambda\\varepsilon_{kk}\\delta_{ij}.\n",
    "$$\n",
    "\n",
    "In this form $\\mu$ and $\\lambda$ are called Lamé parameters and they are material constants, completely defining the material response and changing from one material to the other.\n",
    "\n",
    "In most engineering applictions it is more common to describe the material response in terms of Young's modulus ($E$) and shear modulus ($G\\equiv\\mu$). There are two alternative parameters that can be used in the description of a material, namely Poisson's ratio ($\\nu$) relating direct normal strains to secondary transverse strains and the compressibility parameter ($\\kappa$) describing the material response to purely volumetric changes. In fact from $E, \\mu , \\nu , \\lambda$ and $\\kappa$ there are only two material parameters which are linearly independent leaving the others as combinations from the two taken as the basis. See for instance Shames and Cozzarelli (1997).\n",
    "\n",
    "## Equations of motion in terms of displacements.\n",
    "\n",
    "To arrive at a solvable boundary value problem we use the strain-displacement relationship after using the definition of $\\varepsilon_{ij}$ in terms of $u_i$ giving:\n",
    "\n",
    "$$\n",
    "\\sigma_{ij}=\\mu(u_{i,j}+u_{j,i})+\\lambda u_{k,k}\\delta_{ij}\n",
    "$$\n",
    "\n",
    "thus allowing us to write:\n",
    "\n",
    "$$\n",
    "\\sigma_{ij,j}=\\mu(u_{i,jj}+u_{j,ij})+\\lambda u_{k,ki}.\n",
    "$$\n",
    "\n",
    "\n",
    "Substituting the above into the stress equations yields:\n",
    "\n",
    "$$\n",
    "\\left(\\lambda+\\mu\\right)u_{j,ij}+\\mu u_{i,jj}+f_i=0\n",
    "$$\n",
    "\n",
    "which are the Navier equations governing the displacement field in an elastic solid. Note that the Navier equations involve equilibrium, kineamtic relationships and Hooke's law.\n",
    "\n",
    "The boundary value problem is completed after considering the conditions at the boundary $S$ namely;\n",
    "\n",
    "\n",
    "$$\n",
    "t_i^{(\\widehat n)}=\\sigma_{ij}{\\widehat n}_j\n",
    "$$\n",
    "\n",
    "for $\\overset\\rightharpoonup x\\in S_t$ and\n",
    "\n",
    "$$\n",
    "u_i=\\overline{u_i}\n",
    "$$\n",
    "\n",
    "for $\\overset\\rightharpoonup x\\in S_u$."
   ]
  },
  {
   "cell_type": "markdown",
   "metadata": {},
   "source": [
    "**Questions:**\n",
    "\n",
    "**Use explicit notation to write the particular form of the Navier equations in a two-dimensional idealization.**"
   ]
  },
  {
   "cell_type": "markdown",
   "metadata": {},
   "source": [
    "## The prinicple of virtual work (or virtual displacements).\n",
    "\n",
    "### Theorem\n",
    "\n",
    "An elastic state $(\\sigma_{ij},\\varepsilon_{ij},u_i)$ is the unique solution to the boundary value problem given by:\n",
    "\n",
    "$$\n",
    "\\sigma_{ij,j}+f_i=0\n",
    "$$\n",
    "\n",
    "for $\\overset\\rightharpoonup x\\in V$ and the boundary conditions\n",
    "\n",
    "$$\n",
    "t_i^{(\\widehat n)}=\\sigma_{ij}{\\widehat n}_j\n",
    "$$\n",
    "\n",
    "for $\\overset\\rightharpoonup x\\in S_t$ and\n",
    "\n",
    "$$\n",
    "u_i=\\overline{u_i}\n",
    "$$\n",
    "\n",
    "for $\\overset\\rightharpoonup x\\in S_u$ and where $S_t$ and $S_u$ are such that\n",
    "\n",
    "\\begin{align*}\n",
    "S & =S_t\\cup S_u\\\\\n",
    "\\varnothing & =S_t\\cap S_u\n",
    "\\end{align*}\n",
    "\n",
    "If\n",
    "\n",
    "$$\n",
    "\\int_{V(\\overset\\rightharpoonup x)}\\sigma_{ij}\\delta\\varepsilon_{ij}\\operatorname dV(\\overset\\rightharpoonup x)-\\int_{V(\\overset\\rightharpoonup x)}f_i\\delta u_i\\operatorname d{V(\\overset\\rightharpoonup x)}-\\int_{S_t}t_i^{(\\widehat n)}\\delta u_i\\operatorname dS=0\n",
    "$$\n",
    "\n",
    "\n",
    "for a given arbitrary displacement field $\\delta u_i$ such $\\delta u_i=0$ in $S_u$.\n",
    "\n",
    "### Proof:\n",
    "\n",
    "To show the validity of the PVW write \n",
    "\n",
    "$$\n",
    "\\int_{V(\\overset\\rightharpoonup x)}\\left(\\sigma_{ij,j}+f_i\\right)\\delta u_i\\operatorname dV(\\overset\\rightharpoonup x)=0\n",
    "$$\n",
    "\n",
    "which is valid since $\\delta u_i$ is arbitrary. Then expand and use integration by parts in the first integral to get:\n",
    "\n",
    "$$\n",
    "-\\int_{V(\\overset\\rightharpoonup x)}\\sigma_{ij}\\delta u_{i,j}\\operatorname dV(\\overset\\rightharpoonup x)+\\int_{S_t}t_i^{(\\widehat n)}\\delta u_i\\operatorname dS+\\int_{V(\\overset\\rightharpoonup x)}f_i\\delta u_i\\operatorname d{V(\\overset\\rightharpoonup x)}=0\n",
    "$$\n",
    "\n",
    "and use the symmetry condition $\\sigma_{ij} = \\sigma_{ji}$ to arrive at:\n",
    "\n",
    "$$\n",
    "\\int_{V(\\overset\\rightharpoonup x)}\\sigma_{ij}\\delta\\varepsilon_{ij}\\operatorname dV(\\overset\\rightharpoonup x)-\\int_{S_t}t_i^{(\\widehat n)}\\delta u_i\\operatorname dS-\\int_{V(\\overset\\rightharpoonup x)}f_i\\delta u_i\\operatorname d{V(\\overset\\rightharpoonup x)}=0.\n",
    "$$"
   ]
  },
  {
   "cell_type": "markdown",
   "metadata": {},
   "source": [
    "**Questions:**\n",
    "\n",
    "* **If the stress solutin for the wedge shown previously is given by:**\n",
    "\n",
    "\\begin{align*}\n",
    "\\sigma_{xx} & =SCot(\\phi)\\\\\n",
    "\\sigma_{yy} & =-STan(\\phi)\\\\\n",
    "\\tau_{xy} & =0.\n",
    "\\end{align*}\n",
    "\n",
    "\n",
    "**write the particular form of the principle of virtual work.**\n",
    "**Note: Propose an arbitrary function $\\delta u_i$ such $\\delta u_i = 0$ in $S_u$ and verify that the principle holds for the given stress solution.**"
   ]
  },
  {
   "cell_type": "markdown",
   "metadata": {},
   "source": [
    "## Two-dimensional idealization\n",
    "\n",
    "In two-dimensional idealizations (eg., plane strain and plane stress) the elastic state is defined in terms of the displacement vector $u^T=\\begin{bmatrix}u&v\\end{bmatrix}$ where $u$ and $v$ are the horizontal and vertical scalar components of the displacement. The kinematic relationships defining strains\n",
    "\n",
    "$$\n",
    "\\varepsilon^T=\\begin{bmatrix}\\varepsilon_{xx}&\\varepsilon_{yy}&\\gamma_{xy}\\end{bmatrix}\n",
    "$$\n",
    "\n",
    "in terms of displacements follows: \n",
    "\n",
    "\\begin{align*}\n",
    "\\varepsilon_{xx} & =\\left(\\frac{\\partial u}{\\partial x}\\right)\\\\\n",
    "\\varepsilon_{yy} & =\\left(\\frac{\\partial v}{\\partial y}\\right)\\\\\n",
    "\\gamma_{yy} & =\\left(\\frac{\\partial u}{\\partial y}+\\frac{\\partial v}{\\partial x}\\right)\n",
    "\\end{align*}\n",
    "\n",
    "\n",
    "\n",
    "\n",
    "Similarly the stress tensor\n",
    "\n",
    "$$\n",
    "\\sigma^T=\\begin{bmatrix}\\sigma_{xx}&\\sigma_{yy}&\\tau_{xy}\\end{bmatrix}\n",
    "$$\n",
    "\n",
    "satisfies the equilibrium equations\n",
    "\n",
    "\\begin{align*}\n",
    "& \\frac{\\partial\\sigma_{xx}}{\\partial x}+\\frac{\\displaystyle\\partial\\tau_{xy}}{\\displaystyle\\partial y}+f_x=0\\\\\n",
    "& \\frac{\\displaystyle\\partial\\tau_{xy}}{\\displaystyle\\partial x}+\\frac{\\partial\\sigma_{yy}}{\\partial x}+f_y=0.\\\\\n",
    "\\end{align*}\n",
    "\n",
    "\n",
    "On the other hand the constitutive relationship for plane stress can be written like\n",
    "\n",
    "\n",
    "$$\\left\\{\\sigma\\right\\}=\\left[C\\right]\\left\\{\\varepsilon\\right\\}$$\n",
    "\n",
    "where the constitutive matrix reads:\n",
    "\n",
    "\n",
    "$C=\\frac E{1-\\nu^2}\\begin{bmatrix}1&\\nu&0\\\\\\nu&1&0\\\\0&0&\\frac{1-\\nu}2\\end{bmatrix}$.\n",
    "\n",
    "\n",
    "\n",
    "\n"
   ]
  },
  {
   "cell_type": "markdown",
   "metadata": {},
   "source": [
    "## Class activity\n",
    "\n",
    "The symmetric wedge of semi-angle $\\phi$ and side $\\ell$\n",
    "\n",
    "<center><img src=\"img/wedge.png\" alt=\"files\" style=\"width:300px\"></center>\n",
    "\n",
    "\n",
    "is loaded by surface tractions of magnitude $S$ as shown in the figure. A very sensitive engineer assumes that the stress solution for this problem is given by:\n",
    "\n",
    "\n",
    "\n",
    "\\begin{align*}\n",
    "\\sigma_{xx} & =SCot(\\phi)\\\\\n",
    "\\sigma_{yy} & =-STan(\\phi)\\\\\n",
    "\\tau_{xy} & =0.\n",
    "\\end{align*}\n",
    "\n",
    "\n",
    "\n",
    "\n",
    "* Verify that this is in fact the solution to the problem.\n",
    "\n",
    "\n",
    "* Find the corresponding strain field using the inverse form of the stress-strain relationship:\n",
    "\n",
    "\\begin{align*}\n",
    "\\varepsilon_{xx} & =\\frac1E\\left(\\sigma_{xx}-\\nu\\sigma_{yy}\\right)\\\\\n",
    "\\varepsilon_{yy} & =\\frac1E\\left(\\sigma_{yy}-\\nu\\sigma_{xx}\\right)\\\\\n",
    "\\gamma_{xy} & =\\frac{\\tau_{xy}}\\mu\n",
    "\\end{align*}\n",
    "\n",
    "\n",
    "\n",
    "* Find the displacement field after integrating the displacement increment:\n",
    "\n",
    "\\begin{align*}\n",
    "du & =\\varepsilon_{xx}dx+\\frac12\\gamma_{xy}dy\\\\\n",
    "dv & =\\frac12\\gamma_{xy}dx+\\varepsilon_{yy}dy\n",
    "\\end{align*}\n",
    "\n",
    "\n",
    "\n",
    "* For the case of a wedge with $\\phi=45^0$ and $\\ell = 1.0$ complete the missing parts in the code provided below and plot the displacement field if $S= 1.0$, $E=1.0$ and $\\nu = 1/3$.\n",
    "\n",
    "* Complete the missing parts in the code provided below and plot the internal strain energy $W=\\int_{V(\\overrightarrow x)}\\frac12\\sigma_{ij}\\varepsilon_{ij}\\operatorname dV(\\overrightarrow x)$"
   ]
  },
  {
   "cell_type": "markdown",
   "metadata": {},
   "source": [
    "## Notes:\n",
    "\n",
    "* **For the stress field to be the solution it must satisfy the equations of equlibrium and the boundary conditions.**\n",
    "\n",
    "* **To plot the displacement field use the plotter coded in previous notebooks.**"
   ]
  },
  {
   "cell_type": "markdown",
   "metadata": {},
   "source": [
    "## Python solution\n",
    "\n",
    "To visualize the solution use intrinsic Python interpolation tools like in previously developed examples. For that purpose create a mesh of triangular linear elements as shown in the figure. In this case the mesh is represented by the nodal and elemental files **Wnodes.txt** and **Weles.txt.** (These files must recide in memory.). Care must be taken with the location of the reference system in the mesh and that of the analytic solution.\n",
    "\n",
    "<center><img src=\"img/meshwedge.png\" alt=\"files\" style=\"width:300px\"></center>\n",
    "\n",
    "\n",
    "### Import modules"
   ]
  },
  {
   "cell_type": "code",
   "execution_count": 9,
   "metadata": {},
   "outputs": [],
   "source": [
    "%matplotlib inline        \n",
    "import matplotlib.pyplot as plt\n",
    "from matplotlib.tri import Triangulation, CubicTriInterpolator\n",
    "import numpy as np\n",
    "import sympy as sym"
   ]
  },
  {
   "cell_type": "markdown",
   "metadata": {},
   "source": [
    "### Wedge solution\n",
    "\n",
    "In the following function code the displacement and stress solution for a material point of coordinates $(x , y)$ in the wedge reference system:"
   ]
  },
  {
   "cell_type": "code",
   "execution_count": 10,
   "metadata": {},
   "outputs": [],
   "source": [
    "def cunia(x,y):\n",
    "    \"\"\"Computes the solution for self-equilibated wedge\n",
    "       at a point (x , y).\n",
    "    \"\"\"\n",
    "#\n",
    "\n",
    "    ux   = 1.0\n",
    "    uy   = 1.0\n",
    "    sigx = 1.0\n",
    "    sigy = 1.0\n",
    "    return ux , uy , sigx , sigy"
   ]
  },
  {
   "cell_type": "markdown",
   "metadata": {},
   "source": [
    "### Interpolation and visualization subroutines\n",
    "\n",
    "Use the plotting functions **plot_disp()** and **plot_stress()** from **SolidsPy** to visualize the displacement and stress solution. Recall that these subroutines also use two auxiliary functions to handle the conversion from the mesh to Pyhton Triangularization objects."
   ]
  },
  {
   "cell_type": "code",
   "execution_count": 11,
   "metadata": {},
   "outputs": [],
   "source": [
    "def plot_disp(UC, nodes, elements, Ngra , plt_type=\"contourf\", levels=12,\n",
    "               savefigs=False, title=\"Solution:\" ):\n",
    "    \"\"\"Plots a 2D nodal displacement field using a triangulation.\n",
    "\n",
    "    Parameters\n",
    "    ----------\n",
    "    UC : ndarray (float)\n",
    "      Array with the displacements.\n",
    "    nodes : ndarray (float)\n",
    "      Array with number and nodes coordinates:\n",
    "        `number coordX coordY BCX BCY`\n",
    "    elements : ndarray (int)\n",
    "      Array with the node number for the nodes that correspond to each\n",
    "      element.\n",
    "\n",
    "    \"\"\"\n",
    "    tri = mesh2tri(nodes, elements)\n",
    "    tri_plot(tri, UC[:, 0] , Ngra, title=r'$u_x$',\n",
    "             figtitle=title + \"Horizontal displacement\",\n",
    "             levels=levels, plt_type=plt_type, savefigs=savefigs,\n",
    "             filename=\"ux_sol.pdf\" )\n",
    "    tri_plot(tri, UC[:, 1],  Ngra , title=r'$u_y$',\n",
    "             figtitle=title + \"Vertical displacement\",\n",
    "             levels=levels, plt_type=plt_type, savefigs=savefigs,\n",
    "             filename=\"uy_sol.pdf\")"
   ]
  },
  {
   "cell_type": "code",
   "execution_count": 12,
   "metadata": {},
   "outputs": [],
   "source": [
    "def plot_stress(S_nodes, nodes, elements, Ngra ,  plt_type=\"contourf\", levels=12,\n",
    "               savefigs=False ):\n",
    "    \"\"\"Plots a 2 component stresses field using a triangulation.\n",
    "\n",
    "    The stresses need to be computed at nodes first.\n",
    "\n",
    "    Parameters\n",
    "    ----------\n",
    "    S_nodes : ndarray (float)\n",
    "      Array with the nodal stresses.\n",
    "    nodes : ndarray (float)\n",
    "      Array with number and nodes coordinates:\n",
    "        `number coordX coordY`\n",
    "    elements : ndarray (int)\n",
    "      Array with the node number for the nodes that correspond to each\n",
    "      element.\n",
    "\n",
    "    \"\"\"\n",
    "    tri = mesh2tri(nodes, elements)\n",
    "    tri_plot(tri, S_nodes[:, 0], Ngra ,  title=r'$\\sigma_{11}$',\n",
    "             figtitle=\"Solution: sigma-xx stress\",\n",
    "             levels=levels, plt_type=plt_type, savefigs=savefigs,\n",
    "             filename=\"sigmaxx_sol.pdf\")\n",
    "    tri_plot(tri, S_nodes[:, 1], Ngra ,  title=r'$\\sigma_{22}$',\n",
    "             figtitle=\"Solution: sigma-xy stress\",\n",
    "             levels=levels, plt_type=plt_type, savefigs=savefigs,\n",
    "             filename=\"sigmaxy_sol.pdf\")"
   ]
  },
  {
   "cell_type": "code",
   "execution_count": 13,
   "metadata": {},
   "outputs": [],
   "source": [
    "def mesh2tri(nodes, elements):\n",
    "    \"\"\"Generates a matplotlib.tri.Triangulation object from the mesh\n",
    "\n",
    "    Parameters\n",
    "    ----------\n",
    "    nodes : ndarray (float)\n",
    "      Array with number and nodes coordinates:\n",
    "        `number coordX coordY BCX BCY`\n",
    "    elements : ndarray (int)\n",
    "      Array with the node number for the nodes that correspond to each\n",
    "      element.\n",
    "\n",
    "    Returns\n",
    "    -------\n",
    "    tri : Triangulation\n",
    "        An unstructured triangular grid consisting of npoints points\n",
    "        and ntri triangles.\n",
    "\n",
    "    \"\"\"\n",
    "    x = nodes[:, 1]\n",
    "    y = nodes[:, 2]\n",
    "    triangs = []\n",
    "    for el in elements:\n",
    "        if el[1]==3:\n",
    "            triangs.append(el[[3, 4, 5]])\n",
    "            triangs.append(el[[5, 6, 3]])\n",
    "        if el[1]==9:\n",
    "            triangs.append(el[[3, 6, 8]])\n",
    "            triangs.append(el[[6, 7, 8]])\n",
    "            triangs.append(el[[6, 4, 7]])\n",
    "            triangs.append(el[[7, 5, 8]])\n",
    "        if el[1]==2:\n",
    "            triangs.append(el[3:])\n",
    "\n",
    "    tri = Triangulation(x, y, np.array(triangs))\n",
    "#\n",
    "    return tri"
   ]
  },
  {
   "cell_type": "code",
   "execution_count": 14,
   "metadata": {},
   "outputs": [],
   "source": [
    "def tri_plot(tri, field, Ngra ,  title=\"\", figtitle=\"\", levels=12, savefigs=False,\n",
    "             plt_type=\"contourf\" , filename=\"solution_plot.pdf\"  ):\n",
    "\n",
    "    plt.figure(Ngra)\n",
    "    if plt_type==\"pcolor\":\n",
    "        disp_plot = plt.tripcolor\n",
    "    elif plt_type==\"contourf\":\n",
    "        disp_plot = plt.tricontourf\n",
    "    plt.figure(figtitle)\n",
    "    disp_plot(tri, field, levels, shading=\"gouraud\")\n",
    "    plt.title(title)\n",
    "    plt.colorbar(orientation='vertical')\n",
    "    plt.axis(\"image\")\n",
    "    plt.grid()"
   ]
  },
  {
   "cell_type": "markdown",
   "metadata": {},
   "source": [
    "### Main program\n",
    "\n",
    "Complete the main program accordingly to read the mesh files and evaluate the solution at every nodal point from each element."
   ]
  },
  {
   "cell_type": "code",
   "execution_count": 15,
   "metadata": {},
   "outputs": [],
   "source": [
    "nodes        = np.loadtxt('files/' + 'Wnodes.txt')\n",
    "elements     = np.loadtxt('files/' +'Weles.txt')\n",
    "nn =len(nodes[:,0])\n",
    "#\n",
    "coords=np.zeros([nn,2])\n",
    "coords[:,0]=nodes[:,1]\n",
    "coords[:,1]=nodes[:,2]\n",
    "#\n",
    "U   = np.zeros([nn , 2])\n",
    "Sig = np.zeros([nn , 2])"
   ]
  },
  {
   "cell_type": "code",
   "execution_count": 16,
   "metadata": {},
   "outputs": [],
   "source": [
    "for i in range(0,nn):\n",
    "    x = coords[i,0]\n",
    "    y = coords[i,1]\n",
    "    ux , uy , sx , sy = cunia(x , y)\n",
    "    U[i , 0]   = ux\n",
    "    U[i , 1]   = uy\n",
    "    Sig[i , 0] = sx\n",
    "    Sig[i , 1] = sy"
   ]
  },
  {
   "cell_type": "markdown",
   "metadata": {},
   "source": [
    "### Plot the solution"
   ]
  },
  {
   "cell_type": "code",
   "execution_count": 17,
   "metadata": {},
   "outputs": [
    {
     "name": "stderr",
     "output_type": "stream",
     "text": [
      "C:\\Users\\AX201 GMRS\\Anaconda3\\lib\\site-packages\\ipykernel_launcher.py:10: UserWarning: The following kwargs were not used by contour: 'shading'\n",
      "  # Remove the CWD from sys.path while we load stuff.\n"
     ]
    },
    {
     "data": {
      "text/plain": [
       "<Figure size 432x288 with 0 Axes>"
      ]
     },
     "metadata": {},
     "output_type": "display_data"
    },
    {
     "data": {
      "image/png": "[encoded data removed]",
      "text/plain": [
       "<Figure size 432x288 with 2 Axes>"
      ]
     },
     "metadata": {
      "needs_background": "light"
     },
     "output_type": "display_data"
    },
    {
     "data": {
      "image/png": "[encoded data removed]",
      "text/plain": [
       "<Figure size 432x288 with 2 Axes>"
      ]
     },
     "metadata": {
      "needs_background": "light"
     },
     "output_type": "display_data"
    }
   ],
   "source": [
    "plot_disp(U, nodes, elements , 1 , plt_type=\"contourf\", levels=12 )\n",
    "#plot_stress(Sig, nodes, elements , 2 , savefigs = True)"
   ]
  },
  {
   "cell_type": "markdown",
   "metadata": {},
   "source": [
    "### Glossary of terms\n",
    "\n",
    "**Boundary value problem:** A set of partial differential equations specified over a given domain $V$ bounded by a surface or boundary $S$ where bundary conditions or prescribed characteritics of the solution are available.\n",
    "\n",
    "**Material point:** Fundamental mathemtical abstraction in the continuum model and representing the equivalent of a particle in classical mechanics. This material point has no shape nor volume yet it experiences mechanical interactions.\n",
    "\n",
    "**Tractions vector:** This is the fundamental description of forces introduced by Cauchy. In fact tractions represent forces per unit surface at a material point.\n",
    "\n",
    "**Stress tensor:** The complete set of traction vectors associatted to three (two in plane problems) non co-lineal directions and completely defining the state of forces at the material point.\n",
    "\n",
    "**Strain tensor:** This second order tensor describes the local changes in shape along the infinite directions emanating from a material point.\n",
    "\n",
    "**Constitutive tensor:** Set of material parameters, transforming like a tensor, and fully describing the stress-strain response for a given material."
   ]
  },
  {
   "cell_type": "markdown",
   "metadata": {},
   "source": [
    "### References\n",
    "\n",
    "* Timoshenko, S.P., and Goodier, J.N. (1976). Theory of Elasticity. International Student Edition. McGraw-Hill International.\n",
    "\n",
    "* Love, A. E. H. (2013). A treatise on the mathematical theory of elasticity. Cambridge university press.\n",
    "\n",
    "* Shames, I.H and Cozzarelli, F.A. (1997). Elastic and inelastic stress analysis. Taylor and Francis."
   ]
  },
  {
   "cell_type": "code",
   "execution_count": 1,
   "metadata": {},
   "outputs": [
    {
     "data": {
      "text/html": [
       "\n",
       "<link href='http://fonts.googleapis.com/css?family=Fenix' rel='stylesheet' type='text/css'>\n",
       "<link href='http://fonts.googleapis.com/css?family=Alegreya+Sans:100,300,400,500,700,800,900,100italic,300italic,400italic,500italic,700italic,800italic,900italic' rel='stylesheet' type='text/css'>\n",
       "<link href='http://fonts.googleapis.com/css?family=Source+Code+Pro:300,400' rel='stylesheet' type='text/css'>\n",
       "\n",
       "<style>\n",
       "\n",
       "/*\n",
       "Template for Notebooks for Modelación computacional.\n",
       "\n",
       "Based on Lorena Barba template available at:\n",
       "\n",
       "    https://github.com/barbagroup/AeroPython/blob/master/styles/custom.css\n",
       "*/\n",
       "\n",
       "/* Fonts */\n",
       "@font-face {\n",
       "font-family: \"Computer Modern\";\n",
       "src: url('http://mirrors.ctan.org/fonts/cm-unicode/fonts/otf/cmunss.otf');\n",
       "}\n",
       "\n",
       "/* Text */\n",
       "div.cell{\n",
       "width:800px;\n",
       "margin-left:16% !important;\n",
       "margin-right:auto;\n",
       "}\n",
       "h1 {\n",
       "font-family: 'Alegreya Sans', sans-serif;\n",
       "}\n",
       "h2 {\n",
       "font-family: 'Fenix', serif;\n",
       "}\n",
       "h3{\n",
       "font-family: 'Fenix', serif;\n",
       "margin-top:12px;\n",
       "margin-bottom: 3px;\n",
       "}\n",
       "h4{\n",
       "font-family: 'Fenix', serif;\n",
       "}\n",
       "h5 {\n",
       "font-family: 'Alegreya Sans', sans-serif;\n",
       "}\t\n",
       "div.text_cell_render{\n",
       "font-family: 'Alegreya Sans',Computer Modern, \"Helvetica Neue\", Arial, Helvetica, Geneva, sans-serif;\n",
       "line-height: 135%;\n",
       "font-size: 120%;\n",
       "width:600px;\n",
       "margin-left:auto;\n",
       "margin-right:auto;\n",
       "}\n",
       ".CodeMirror{\n",
       "font-family: \"Source Code Pro\";\n",
       "font-size: 90%;\n",
       "}\n",
       "/* .prompt{\n",
       "display: None;\n",
       "}*/\n",
       ".text_cell_render h1 {\n",
       "font-weight: 200;\n",
       "font-size: 50pt;\n",
       "line-height: 100%;\n",
       "color:#CD2305;\n",
       "margin-bottom: 0.5em;\n",
       "margin-top: 0.5em;\n",
       "display: block;\n",
       "}\t\n",
       ".text_cell_render h5 {\n",
       "font-weight: 300;\n",
       "font-size: 16pt;\n",
       "color: #CD2305;\n",
       "font-style: italic;\n",
       "margin-bottom: .5em;\n",
       "margin-top: 0.5em;\n",
       "display: block;\n",
       "}\n",
       ".warning{\n",
       "color: rgb( 240, 20, 20 )\n",
       "}\n",
       "</style>\n",
       "\n",
       "<script>\n",
       "/* Equations */\n",
       "\n",
       "MathJax.Hub.Config({\n",
       "TeX: {\n",
       "extensions: [\"AMSmath.js\"]\n",
       "},\n",
       "tex2jax: {\n",
       "inlineMath: [ ['$','$'], [\"\\\\(\",\"\\\\)\"] ],\n",
       "displayMath: [ ['$$','$$'], [\"\\\\[\",\"\\\\]\"] ]\n",
       "},\n",
       "displayAlign: 'center', // Change this to 'center' to center equations.\n",
       "\"HTML-CSS\": {\n",
       "styles: {'.MathJax_Display': {\"margin\": 4}}\n",
       "}\n",
       "});\n",
       "</script>\n",
       "\n",
       "\n"
      ],
      "text/plain": [
       "<IPython.core.display.HTML object>"
      ]
     },
     "execution_count": 1,
     "metadata": {},
     "output_type": "execute_result"
    }
   ],
   "source": [
    "from IPython.core.display import HTML\n",
    "def css_styling():\n",
    "    styles = open('./nb_style.css', 'r').read()\n",
    "    return HTML(styles)\n",
    "css_styling()"
   ]
  },
  {
   "cell_type": "code",
   "execution_count": null,
   "metadata": {},
   "outputs": [],
   "source": []
  }
 ],
 "metadata": {
  "celltoolbar": "Raw Cell Format",
  "kernelspec": {
   "display_name": "Python 3",
   "language": "python",
   "name": "python3"
  },
  "language_info": {
   "codemirror_mode": {
    "name": "ipython",
    "version": 3
   },
   "file_extension": ".py",
   "mimetype": "text/x-python",
   "name": "python",
   "nbconvert_exporter": "python",
   "pygments_lexer": "ipython3",
   "version": "3.6.9"
  },
  "varInspector": {
   "cols": {
    "lenName": 16,
    "lenType": 16,
    "lenVar": 40
   },
   "kernels_config": {
    "python": {
     "delete_cmd_postfix": "",
     "delete_cmd_prefix": "del ",
     "library": "var_list.py",
     "varRefreshCmd": "print(var_dic_list())"
    },
    "r": {
     "delete_cmd_postfix": ") ",
     "delete_cmd_prefix": "rm(",
     "library": "var_list.r",
     "varRefreshCmd": "cat(var_dic_list()) "
    }
   },
   "types_to_exclude": [
    "module",
    "function",
    "builtin_function_or_method",
    "instance",
    "_Feature"
   ],
   "window_display": false
  }
 },
 "nbformat": 4,
 "nbformat_minor": 1
}
